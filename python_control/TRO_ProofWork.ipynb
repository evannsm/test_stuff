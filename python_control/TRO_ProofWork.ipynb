{
 "cells": [
  {
   "cell_type": "code",
   "execution_count": 27,
   "metadata": {},
   "outputs": [],
   "source": [
    "import numpy as np\n",
    "from utilities import *\n",
    "import control as ct\n",
    "import sympy as sp\n"
   ]
  },
  {
   "cell_type": "code",
   "execution_count": 28,
   "metadata": {},
   "outputs": [],
   "source": [
    "# !conda install -c conda-forge slycot -y\n"
   ]
  },
  {
   "cell_type": "code",
   "execution_count": 29,
   "metadata": {},
   "outputs": [],
   "source": [
    "psi = 0.0"
   ]
  },
  {
   "cell_type": "code",
   "execution_count": 30,
   "metadata": {},
   "outputs": [],
   "source": [
    "A_lin = np.array([\n",
    "            [-D_vxy__CB/(m_Axy + m_RB), 0, 0, 0, 0, 0, 0, 0, 0, 0, 0, 0],\n",
    "            [0, -D_vxy__CB/(m_Axy + m_RB), 0, 0, 0, 0, 0, 0, 0, 0, 0, 0],\n",
    "            [0, 0, -D_vz__CB/(m_Az + m_RB), 0, 0, 0, 0, 0, 0, 0, 0, 0],\n",
    "            [0, 0, 0, -D_omega_xy__CB/(I_Axy + I_RBxy + m_RB*r_z_gb__b**2), 0, 0, 0, 0, 0, -(f_g*r_z_gb__b)/(I_Axy + I_RBxy + m_RB*r_z_gb__b**2), 0, 0],\n",
    "            [0, 0, 0, 0, -D_omega_xy__CB/(I_Axy + I_RBxy + m_RB*r_z_gb__b**2), 0, 0, 0, 0, 0, -(f_g*r_z_gb__b)/(I_Axy + I_RBxy + m_RB*r_z_gb__b**2), 0],\n",
    "            [0, 0, 0, 0, 0, -D_omega_z__CB/(I_Az + I_RBz), 0, 0, 0, 0, 0, 0],\n",
    "            [np.cos(psi), -np.sin(psi), 0, 0, 0, 0, 0, 0, 0, 0, 0, 0],\n",
    "            [np.sin(psi), np.cos(psi), 0, 0, 0, 0, 0, 0, 0, 0, 0, 0],\n",
    "            [0, 0, 1, 0, 0, 0, 0, 0, 0, 0, 0, 0],\n",
    "            [0, 0, 0, 1, 0, 0, 0, 0, 0, 0, 0, 0],\n",
    "            [0, 0, 0, 0, 1, 0, 0, 0, 0, 0, 0, 0],\n",
    "            [0, 0, 0, 0, 0, 1, 0, 0, 0, 0, 0, 0],\n",
    "        ])"
   ]
  },
  {
   "cell_type": "code",
   "execution_count": 31,
   "metadata": {},
   "outputs": [],
   "source": [
    "B_lin = np.array([\n",
    "            [1/(m_Axy + m_RB), 0, 0, 0],\n",
    "            [0, 1/(m_Axy + m_RB), 0, 0],\n",
    "            [0, 0, 1/(m_Az + m_RB), 0],\n",
    "            [0, -r_z_tg__b/(I_Axy + I_RBxy + m_RB*r_z_gb__b**2), 0, 0],\n",
    "            [r_z_tg__b/(I_Axy + I_RBxy + m_RB*r_z_gb__b**2), 0, 0, 0],\n",
    "            [0, 0, 0, 1/(I_Az + I_RBz)],\n",
    "            [0, 0, 0, 0],\n",
    "            [0, 0, 0, 0],\n",
    "            [0, 0, 0, 0],\n",
    "            [0, 0, 0, 0],\n",
    "            [0, 0, 0, 0],\n",
    "            [0, 0, 0, 0],\n",
    "        ])"
   ]
  },
  {
   "cell_type": "code",
   "execution_count": 24,
   "metadata": {},
   "outputs": [
    {
     "name": "stdout",
     "output_type": "stream",
     "text": [
      "C = array([[1., 0., 0., 0., 0., 0., 0., 0., 0., 0., 0., 0.],\n",
      "       [0., 1., 0., 0., 0., 0., 0., 0., 0., 0., 0., 0.],\n",
      "       [0., 0., 1., 0., 0., 0., 0., 0., 0., 0., 0., 0.],\n",
      "       [0., 0., 0., 0., 0., 0., 0., 0., 1., 0., 0., 0.]])\n"
     ]
    }
   ],
   "source": [
    "C = np.zeros([4,12])\n",
    "C[0,0],C[1,1], C[2,2], C[3,8] = 1,1,1,1\n",
    "print(f\"{C = }\")\n"
   ]
  },
  {
   "cell_type": "code",
   "execution_count": 25,
   "metadata": {},
   "outputs": [
    {
     "name": "stdout",
     "output_type": "stream",
     "text": [
      "np.linalg.matrix_rank(linearized_blimp_controllability_matrix) = 12\n",
      "A_lin.shape = (12, 12)\n",
      "The system is controllable\n"
     ]
    }
   ],
   "source": [
    "# sys = ct.ss(A_lin, B_lin, np.eye(12), np.zeros((12, 4)))\n",
    "# Calculate the controllability matrix\n",
    "linearized_blimp_controllability_matrix = ct.ctrb(A_lin, B_lin)\n",
    "\n",
    "print(f\"{np.linalg.matrix_rank(linearized_blimp_controllability_matrix) = }\")  \n",
    "print(f\"{A_lin.shape = }\")\n",
    "if np.linalg.matrix_rank(linearized_blimp_controllability_matrix) == A_lin.shape[0]:\n",
    "    print(\"The system is controllable\")\n",
    "else:\n",
    "    print(\"The system is not controllable\")\n"
   ]
  },
  {
   "cell_type": "code",
   "execution_count": 26,
   "metadata": {},
   "outputs": [
    {
     "ename": "ControlMIMONotImplemented",
     "evalue": "Not implemented for MIMO systems without slycot.",
     "output_type": "error",
     "traceback": [
      "\u001b[0;31m---------------------------------------------------------------------------\u001b[0m",
      "\u001b[0;31mImportError\u001b[0m                               Traceback (most recent call last)",
      "File \u001b[0;32m~/.local/lib/python3.8/site-packages/control/xferfcn.py:1397\u001b[0m, in \u001b[0;36m_convert_to_transfer_function\u001b[0;34m(sys, inputs, outputs)\u001b[0m\n\u001b[1;32m   1394\u001b[0m \u001b[39mtry\u001b[39;00m:\n\u001b[1;32m   1395\u001b[0m     \u001b[39m# Use Slycot to make the transformation\u001b[39;00m\n\u001b[1;32m   1396\u001b[0m     \u001b[39m# Make sure to convert system matrices to numpy arrays\u001b[39;00m\n\u001b[0;32m-> 1397\u001b[0m     \u001b[39mfrom\u001b[39;00m \u001b[39mslycot\u001b[39;00m \u001b[39mimport\u001b[39;00m tb04ad\n\u001b[1;32m   1398\u001b[0m     tfout \u001b[39m=\u001b[39m tb04ad(\n\u001b[1;32m   1399\u001b[0m         sys\u001b[39m.\u001b[39mnstates, sys\u001b[39m.\u001b[39mninputs, sys\u001b[39m.\u001b[39mnoutputs, array(sys\u001b[39m.\u001b[39mA),\n\u001b[1;32m   1400\u001b[0m         array(sys\u001b[39m.\u001b[39mB), array(sys\u001b[39m.\u001b[39mC), array(sys\u001b[39m.\u001b[39mD), tol1\u001b[39m=\u001b[39m\u001b[39m0.0\u001b[39m)\n",
      "File \u001b[0;32m~/.local/lib/python3.8/site-packages/slycot/__init__.py:16\u001b[0m\n\u001b[1;32m     11\u001b[0m \u001b[39melse\u001b[39;00m:\n\u001b[1;32m     12\u001b[0m \n\u001b[1;32m     13\u001b[0m     \u001b[39m# import slycot.examples\u001b[39;00m\n\u001b[1;32m     14\u001b[0m \n\u001b[1;32m     15\u001b[0m     \u001b[39m# Analysis routines (15/40 wrapped)\u001b[39;00m\n\u001b[0;32m---> 16\u001b[0m     \u001b[39mfrom\u001b[39;00m \u001b[39m.\u001b[39;00m\u001b[39manalysis\u001b[39;00m \u001b[39mimport\u001b[39;00m ab01nd, ab05md, ab05nd, ab07nd, ab08nd, ab08nz\n\u001b[1;32m     17\u001b[0m     \u001b[39mfrom\u001b[39;00m \u001b[39m.\u001b[39;00m\u001b[39manalysis\u001b[39;00m \u001b[39mimport\u001b[39;00m ab09ad, ab09ax, ab09bd, ab09md, ab09nd\n",
      "File \u001b[0;32m~/.local/lib/python3.8/site-packages/slycot/analysis.py:22\u001b[0m\n\u001b[1;32m     20\u001b[0m \u001b[39mimport\u001b[39;00m \u001b[39mnumpy\u001b[39;00m \u001b[39mas\u001b[39;00m \u001b[39mnp\u001b[39;00m\n\u001b[0;32m---> 22\u001b[0m \u001b[39mfrom\u001b[39;00m \u001b[39m.\u001b[39;00m \u001b[39mimport\u001b[39;00m _wrapper\n\u001b[1;32m     23\u001b[0m \u001b[39mfrom\u001b[39;00m \u001b[39m.\u001b[39;00m\u001b[39mexceptions\u001b[39;00m \u001b[39mimport\u001b[39;00m raise_if_slycot_error, SlycotParameterError\n",
      "\u001b[0;31mImportError\u001b[0m: /home/factslabegmc/.local/lib/python3.8/site-packages/slycot/_wrapper.cpython-38-x86_64-linux-gnu.so: undefined symbol: Npy__PyLong_AsInt",
      "\nDuring handling of the above exception, another exception occurred:\n",
      "\u001b[0;31mControlMIMONotImplemented\u001b[0m                 Traceback (most recent call last)",
      "\u001b[1;32m/home/factslabegmc/python_control/TRO_ProofWork.ipynb Cell 8\u001b[0m line \u001b[0;36m8\n\u001b[1;32m      <a href='vscode-notebook-cell:/home/factslabegmc/python_control/TRO_ProofWork.ipynb#W6sZmlsZQ%3D%3D?line=5'>6</a>\u001b[0m T \u001b[39m=\u001b[39m \u001b[39m0.25\u001b[39m\n\u001b[1;32m      <a href='vscode-notebook-cell:/home/factslabegmc/python_control/TRO_ProofWork.ipynb#W6sZmlsZQ%3D%3D?line=6'>7</a>\u001b[0m \u001b[39m# Convert to transfer function\u001b[39;00m\n\u001b[0;32m----> <a href='vscode-notebook-cell:/home/factslabegmc/python_control/TRO_ProofWork.ipynb#W6sZmlsZQ%3D%3D?line=7'>8</a>\u001b[0m sys_tf \u001b[39m=\u001b[39m ct\u001b[39m.\u001b[39;49mss2tf(A, B, C, D)\n\u001b[1;32m     <a href='vscode-notebook-cell:/home/factslabegmc/python_control/TRO_ProofWork.ipynb#W6sZmlsZQ%3D%3D?line=9'>10</a>\u001b[0m \u001b[39m# Print the transfer function\u001b[39;00m\n\u001b[1;32m     <a href='vscode-notebook-cell:/home/factslabegmc/python_control/TRO_ProofWork.ipynb#W6sZmlsZQ%3D%3D?line=10'>11</a>\u001b[0m \u001b[39mprint\u001b[39m(sys_tf)\n",
      "File \u001b[0;32m~/.local/lib/python3.8/site-packages/control/xferfcn.py:1699\u001b[0m, in \u001b[0;36mss2tf\u001b[0;34m(*args, **kwargs)\u001b[0m\n\u001b[1;32m   1696\u001b[0m \u001b[39mfrom\u001b[39;00m \u001b[39m.\u001b[39;00m\u001b[39mstatesp\u001b[39;00m \u001b[39mimport\u001b[39;00m StateSpace\n\u001b[1;32m   1697\u001b[0m \u001b[39mif\u001b[39;00m \u001b[39mlen\u001b[39m(args) \u001b[39m==\u001b[39m \u001b[39m4\u001b[39m \u001b[39mor\u001b[39;00m \u001b[39mlen\u001b[39m(args) \u001b[39m==\u001b[39m \u001b[39m5\u001b[39m:\n\u001b[1;32m   1698\u001b[0m     \u001b[39m# Assume we were given the A, B, C, D matrix and (optional) dt\u001b[39;00m\n\u001b[0;32m-> 1699\u001b[0m     \u001b[39mreturn\u001b[39;00m _convert_to_transfer_function(StateSpace(\u001b[39m*\u001b[39;49margs, \u001b[39m*\u001b[39;49m\u001b[39m*\u001b[39;49mkwargs))\n\u001b[1;32m   1701\u001b[0m \u001b[39mif\u001b[39;00m \u001b[39mlen\u001b[39m(args) \u001b[39m==\u001b[39m \u001b[39m1\u001b[39m:\n\u001b[1;32m   1702\u001b[0m     sys \u001b[39m=\u001b[39m args[\u001b[39m0\u001b[39m]\n",
      "File \u001b[0;32m~/.local/lib/python3.8/site-packages/control/xferfcn.py:1418\u001b[0m, in \u001b[0;36m_convert_to_transfer_function\u001b[0;34m(sys, inputs, outputs)\u001b[0m\n\u001b[1;32m   1415\u001b[0m \u001b[39mexcept\u001b[39;00m \u001b[39mImportError\u001b[39;00m:\n\u001b[1;32m   1416\u001b[0m     \u001b[39m# If slycot is not available, use signal.lti (SISO only)\u001b[39;00m\n\u001b[1;32m   1417\u001b[0m     \u001b[39mif\u001b[39;00m sys\u001b[39m.\u001b[39mninputs \u001b[39m!=\u001b[39m \u001b[39m1\u001b[39m \u001b[39mor\u001b[39;00m sys\u001b[39m.\u001b[39mnoutputs \u001b[39m!=\u001b[39m \u001b[39m1\u001b[39m:\n\u001b[0;32m-> 1418\u001b[0m         \u001b[39mraise\u001b[39;00m ControlMIMONotImplemented(\u001b[39m\"\u001b[39m\u001b[39mNot implemented for \u001b[39m\u001b[39m\"\u001b[39m \u001b[39m+\u001b[39m\n\u001b[1;32m   1419\u001b[0m             \u001b[39m\"\u001b[39m\u001b[39mMIMO systems without slycot.\u001b[39m\u001b[39m\"\u001b[39m)\n\u001b[1;32m   1421\u001b[0m     \u001b[39m# Do the conversion using sp.signal.ss2tf\u001b[39;00m\n\u001b[1;32m   1422\u001b[0m     \u001b[39m# Note that this returns a 2D array for the numerator\u001b[39;00m\n\u001b[1;32m   1423\u001b[0m     num, den \u001b[39m=\u001b[39m sp\u001b[39m.\u001b[39msignal\u001b[39m.\u001b[39mss2tf(sys\u001b[39m.\u001b[39mA, sys\u001b[39m.\u001b[39mB, sys\u001b[39m.\u001b[39mC, sys\u001b[39m.\u001b[39mD)\n",
      "\u001b[0;31mControlMIMONotImplemented\u001b[0m: Not implemented for MIMO systems without slycot."
     ]
    }
   ],
   "source": [
    "# Define state-space matrices\n",
    "A = A_lin  # 12x12\n",
    "B = B_lin  # 12x4\n",
    "C = C      # 4x12\n",
    "D = np.zeros((4, 4))  # 4x4 zero matrix\n",
    "T = 0.25\n",
    "# Convert to transfer function\n",
    "sys_tf = ct.ss2tf(A, B, C, D)\n",
    "\n",
    "# Print the transfer function\n",
    "print(sys_tf)\n"
   ]
  },
  {
   "cell_type": "code",
   "execution_count": null,
   "metadata": {},
   "outputs": [
    {
     "ename": "LinAlgError",
     "evalue": "Singular matrix",
     "output_type": "error",
     "traceback": [
      "\u001b[0;31m---------------------------------------------------------------------------\u001b[0m",
      "\u001b[0;31mLinAlgError\u001b[0m                               Traceback (most recent call last)",
      "\u001b[1;32m/home/factslabegmc/python_control/TRO_ProofWork.ipynb Cell 8\u001b[0m line \u001b[0;36m1\n\u001b[0;32m----> <a href='vscode-notebook-cell:/home/factslabegmc/python_control/TRO_ProofWork.ipynb#Y130sZmlsZQ%3D%3D?line=0'>1</a>\u001b[0m np\u001b[39m.\u001b[39;49mlinalg\u001b[39m.\u001b[39;49minv(A)\n",
      "File \u001b[0;32m~/miniconda3/envs/convexOpt/lib/python3.11/site-packages/numpy/linalg/linalg.py:561\u001b[0m, in \u001b[0;36minv\u001b[0;34m(a)\u001b[0m\n\u001b[1;32m    559\u001b[0m signature \u001b[39m=\u001b[39m \u001b[39m'\u001b[39m\u001b[39mD->D\u001b[39m\u001b[39m'\u001b[39m \u001b[39mif\u001b[39;00m isComplexType(t) \u001b[39melse\u001b[39;00m \u001b[39m'\u001b[39m\u001b[39md->d\u001b[39m\u001b[39m'\u001b[39m\n\u001b[1;32m    560\u001b[0m extobj \u001b[39m=\u001b[39m get_linalg_error_extobj(_raise_linalgerror_singular)\n\u001b[0;32m--> 561\u001b[0m ainv \u001b[39m=\u001b[39m _umath_linalg\u001b[39m.\u001b[39;49minv(a, signature\u001b[39m=\u001b[39;49msignature, extobj\u001b[39m=\u001b[39;49mextobj)\n\u001b[1;32m    562\u001b[0m \u001b[39mreturn\u001b[39;00m wrap(ainv\u001b[39m.\u001b[39mastype(result_t, copy\u001b[39m=\u001b[39m\u001b[39mFalse\u001b[39;00m))\n",
      "File \u001b[0;32m~/miniconda3/envs/convexOpt/lib/python3.11/site-packages/numpy/linalg/linalg.py:112\u001b[0m, in \u001b[0;36m_raise_linalgerror_singular\u001b[0;34m(err, flag)\u001b[0m\n\u001b[1;32m    111\u001b[0m \u001b[39mdef\u001b[39;00m \u001b[39m_raise_linalgerror_singular\u001b[39m(err, flag):\n\u001b[0;32m--> 112\u001b[0m     \u001b[39mraise\u001b[39;00m LinAlgError(\u001b[39m\"\u001b[39m\u001b[39mSingular matrix\u001b[39m\u001b[39m\"\u001b[39m)\n",
      "\u001b[0;31mLinAlgError\u001b[0m: Singular matrix"
     ]
    }
   ],
   "source": [
    "np.linalg.inv(A)"
   ]
  },
  {
   "cell_type": "code",
   "execution_count": null,
   "metadata": {},
   "outputs": [
    {
     "ename": "LinAlgError",
     "evalue": "Singular matrix",
     "output_type": "error",
     "traceback": [
      "\u001b[0;31m---------------------------------------------------------------------------\u001b[0m",
      "\u001b[0;31mLinAlgError\u001b[0m                               Traceback (most recent call last)",
      "\u001b[1;32m/home/factslabegmc/python_control/TRO_ProofWork.ipynb Cell 8\u001b[0m line \u001b[0;36m4\n\u001b[1;32m      <a href='vscode-notebook-cell:/home/factslabegmc/python_control/TRO_ProofWork.ipynb#Y123sZmlsZQ%3D%3D?line=1'>2</a>\u001b[0m tl \u001b[39m=\u001b[39m A\n\u001b[1;32m      <a href='vscode-notebook-cell:/home/factslabegmc/python_control/TRO_ProofWork.ipynb#Y123sZmlsZQ%3D%3D?line=2'>3</a>\u001b[0m tr \u001b[39m=\u001b[39m B\n\u001b[0;32m----> <a href='vscode-notebook-cell:/home/factslabegmc/python_control/TRO_ProofWork.ipynb#Y123sZmlsZQ%3D%3D?line=3'>4</a>\u001b[0m bl \u001b[39m=\u001b[39m \u001b[39m-\u001b[39mnp\u001b[39m.\u001b[39mlinalg\u001b[39m.\u001b[39minv(C \u001b[39m@np\u001b[39m\u001b[39m.\u001b[39;49mlinalg\u001b[39m.\u001b[39;49minv(A)\u001b[39m@\u001b[39m np\u001b[39m.\u001b[39meye(A\u001b[39m.\u001b[39mshape[\u001b[39m0\u001b[39m]) \u001b[39m@\u001b[39m B)\u001b[39m@\u001b[39m C \u001b[39m@\u001b[39m np\u001b[39m.\u001b[39mexp2(A\u001b[39m*\u001b[39m T)\n\u001b[1;32m      <a href='vscode-notebook-cell:/home/factslabegmc/python_control/TRO_ProofWork.ipynb#Y123sZmlsZQ%3D%3D?line=4'>5</a>\u001b[0m br \u001b[39m=\u001b[39m \u001b[39m-\u001b[39mnp\u001b[39m.\u001b[39meye(C\u001b[39m.\u001b[39mshape[\u001b[39m0\u001b[39m])\n\u001b[1;32m      <a href='vscode-notebook-cell:/home/factslabegmc/python_control/TRO_ProofWork.ipynb#Y123sZmlsZQ%3D%3D?line=6'>7</a>\u001b[0m \u001b[39m# print(f\"{tl.shape = }\")\u001b[39;00m\n\u001b[1;32m      <a href='vscode-notebook-cell:/home/factslabegmc/python_control/TRO_ProofWork.ipynb#Y123sZmlsZQ%3D%3D?line=7'>8</a>\u001b[0m \u001b[39m# print(f\"{tr.shape = }\")\u001b[39;00m\n\u001b[1;32m      <a href='vscode-notebook-cell:/home/factslabegmc/python_control/TRO_ProofWork.ipynb#Y123sZmlsZQ%3D%3D?line=8'>9</a>\u001b[0m \u001b[39m# print(f\"{bl.shape = }\")\u001b[39;00m\n\u001b[1;32m     <a href='vscode-notebook-cell:/home/factslabegmc/python_control/TRO_ProofWork.ipynb#Y123sZmlsZQ%3D%3D?line=9'>10</a>\u001b[0m \u001b[39m# print(f\"{br.shape = }\")\u001b[39;00m\n",
      "File \u001b[0;32m~/miniconda3/envs/convexOpt/lib/python3.11/site-packages/numpy/linalg/linalg.py:561\u001b[0m, in \u001b[0;36minv\u001b[0;34m(a)\u001b[0m\n\u001b[1;32m    559\u001b[0m signature \u001b[39m=\u001b[39m \u001b[39m'\u001b[39m\u001b[39mD->D\u001b[39m\u001b[39m'\u001b[39m \u001b[39mif\u001b[39;00m isComplexType(t) \u001b[39melse\u001b[39;00m \u001b[39m'\u001b[39m\u001b[39md->d\u001b[39m\u001b[39m'\u001b[39m\n\u001b[1;32m    560\u001b[0m extobj \u001b[39m=\u001b[39m get_linalg_error_extobj(_raise_linalgerror_singular)\n\u001b[0;32m--> 561\u001b[0m ainv \u001b[39m=\u001b[39m _umath_linalg\u001b[39m.\u001b[39;49minv(a, signature\u001b[39m=\u001b[39;49msignature, extobj\u001b[39m=\u001b[39;49mextobj)\n\u001b[1;32m    562\u001b[0m \u001b[39mreturn\u001b[39;00m wrap(ainv\u001b[39m.\u001b[39mastype(result_t, copy\u001b[39m=\u001b[39m\u001b[39mFalse\u001b[39;00m))\n",
      "File \u001b[0;32m~/miniconda3/envs/convexOpt/lib/python3.11/site-packages/numpy/linalg/linalg.py:112\u001b[0m, in \u001b[0;36m_raise_linalgerror_singular\u001b[0;34m(err, flag)\u001b[0m\n\u001b[1;32m    111\u001b[0m \u001b[39mdef\u001b[39;00m \u001b[39m_raise_linalgerror_singular\u001b[39m(err, flag):\n\u001b[0;32m--> 112\u001b[0m     \u001b[39mraise\u001b[39;00m LinAlgError(\u001b[39m\"\u001b[39m\u001b[39mSingular matrix\u001b[39m\u001b[39m\"\u001b[39m)\n",
      "\u001b[0;31mLinAlgError\u001b[0m: Singular matrix"
     ]
    }
   ],
   "source": [
    "# define phi_alpha matrix by block\n",
    "tl = A\n",
    "tr = B\n",
    "bl = -np.linalg.inv(C @np.linalg.inv(A)@ np.eye(A.shape[0]) @ B)@ C @ np.exp2(A* T)\n",
    "br = -np.eye(C.shape[0])\n",
    "\n",
    "# print(f\"{tl.shape = }\")\n",
    "# print(f\"{tr.shape = }\")\n",
    "\n",
    "\n",
    "# print(f\"{bl.shape = }\")\n",
    "# print(f\"{br.shape = }\")\n",
    "\n",
    "phi_alpha = np.block([[tl, tr], [bl, br]])\n",
    "\n",
    "print(f\"{phi_alpha = }\")"
   ]
  },
  {
   "cell_type": "code",
   "execution_count": null,
   "metadata": {},
   "outputs": [],
   "source": []
  },
  {
   "cell_type": "code",
   "execution_count": null,
   "metadata": {},
   "outputs": [],
   "source": []
  },
  {
   "cell_type": "code",
   "execution_count": null,
   "metadata": {},
   "outputs": [],
   "source": []
  },
  {
   "cell_type": "markdown",
   "metadata": {},
   "source": [
    "# Testing Wardi IJRNC Paper Example for \\alpha-Stability"
   ]
  },
  {
   "cell_type": "code",
   "execution_count": 42,
   "metadata": {},
   "outputs": [
    {
     "name": "stdout",
     "output_type": "stream",
     "text": [
      "\n",
      "  s - 12\n",
      "-----------\n",
      "s^2 - s - 1\n",
      "\n"
     ]
    }
   ],
   "source": [
    "# Define state-space matrices\n",
    "A = np.array([[2, 1],\n",
    "              [-1, -1]])\n",
    "\n",
    "B = np.array([[0],\n",
    "              [1]])\n",
    "\n",
    "C = np.array([[-10, 1]])\n",
    "\n",
    "D = np.array([[0]])  # Can be omitted if zero\n",
    "\n",
    "T = .25  # Time constant\n",
    "\n",
    "# Convert to transfer function\n",
    "sys_tf = ct.ss2tf(A, B, C, D)\n",
    "\n",
    "# Print the transfer function\n",
    "print(sys_tf)\n"
   ]
  },
  {
   "cell_type": "code",
   "execution_count": 43,
   "metadata": {},
   "outputs": [
    {
     "name": "stdout",
     "output_type": "stream",
     "text": [
      "np.linalg.matrix_rank(example_controllability_matrix) = 2\n",
      "A.shape = (2, 2)\n",
      "The system is controllable\n"
     ]
    }
   ],
   "source": [
    "# sys = ct.ss(A_lin, B_lin, np.eye(12), np.zeros((12, 4)))\n",
    "# Calculate the controllability matrix\n",
    "example_controllability_matrix = ct.ctrb(A, B)\n",
    "\n",
    "print(f\"{np.linalg.matrix_rank(example_controllability_matrix) = }\")\n",
    "print(f\"{A.shape = }\")\n",
    "if np.linalg.matrix_rank(example_controllability_matrix) == A.shape[0]:\n",
    "    print(\"The system is controllable\")\n",
    "else:\n",
    "    print(\"The system is not controllable\")"
   ]
  },
  {
   "cell_type": "code",
   "execution_count": 44,
   "metadata": {},
   "outputs": [
    {
     "name": "stdout",
     "output_type": "stream",
     "text": [
      "phi_alpha = array([[ 2.        ,  1.        ,  0.        ],\n",
      "       [-1.        , -1.        ,  1.        ],\n",
      "       [-1.1084366 , -0.92093123, -1.        ]])\n"
     ]
    }
   ],
   "source": [
    "# define phi_alpha matrix by block\n",
    "tl = A\n",
    "tr = B\n",
    "bl = -np.linalg.inv(C @np.linalg.inv(A)@ np.eye(A.shape[0]) @ B)@ C @ np.exp2(A* T)\n",
    "br = -np.eye(C.shape[0])\n",
    "\n",
    "# print(f\"{tl.shape = }\")\n",
    "# print(f\"{tr.shape = }\")\n",
    "# print(f\"{bl.shape = }\")\n",
    "# print(f\"{br.shape = }\")\n",
    "\n",
    "phi_alpha = np.block([[tl, tr], [bl, br]])\n",
    "\n",
    "print(f\"{phi_alpha = }\")"
   ]
  },
  {
   "cell_type": "code",
   "execution_count": 45,
   "metadata": {},
   "outputs": [],
   "source": [
    "# # define psi_alpha matrix by block\n",
    "# tt = np.zeros((len(A), len(A)))\n",
    "# bb = np.linalg.inv( C @ np.linalg.inv(A) @ (np.exp2(A*0.8) - np.eye(len(A))) @ B)\n",
    "\n",
    "# # print(f\"{tt.shape = }\")\n",
    "# # print(f\"{bb.shape = }\")\n",
    "# psi_alpha = np.block([[tt],[bb]])\n",
    "# print(f\"{psi_alpha = }\")"
   ]
  },
  {
   "cell_type": "code",
   "execution_count": 46,
   "metadata": {},
   "outputs": [
    {
     "data": {
      "text/latex": [
       "$\\displaystyle \\left[\\begin{matrix}2 & 1 & 0\\\\-1 & -1 & 1\\\\- 1.10843660070644 \\alpha & - 0.920931227897791 \\alpha & - 1.0 \\alpha\\end{matrix}\\right]$"
      ],
      "text/plain": [
       "Matrix([\n",
       "[                      2,                        1,          0],\n",
       "[                     -1,                       -1,          1],\n",
       "[-1.10843660070644*alpha, -0.920931227897791*alpha, -1.0*alpha]])"
      ]
     },
     "execution_count": 46,
     "metadata": {},
     "output_type": "execute_result"
    }
   ],
   "source": [
    "# work with symbolic alpha variable and get characteristic polynomial\n",
    "# Define symbolic variable alpha\n",
    "alpha = sp.symbols('alpha')\n",
    "\n",
    "tl = sp.Matrix(tl)\n",
    "tr = sp.Matrix(tr)\n",
    "bl = sp.Matrix(bl)\n",
    "br = sp.Matrix(br)\n",
    "\n",
    "# Multiply the bottom row by alpha\n",
    "bl_alpha = alpha * bl\n",
    "br_alpha = alpha * br\n",
    "\n",
    "# Construct the full block matrix with symbolic alpha\n",
    "phi_alpha = sp.Matrix.vstack(\n",
    "    sp.Matrix.hstack(tl, tr),\n",
    "    sp.Matrix.hstack(bl_alpha, br_alpha)\n",
    ")\n",
    "\n",
    "\n",
    "\n",
    "phi_alpha"
   ]
  },
  {
   "cell_type": "code",
   "execution_count": 47,
   "metadata": {},
   "outputs": [
    {
     "name": "stdout",
     "output_type": "stream",
     "text": [
      "Characteristic Polynomial:\n"
     ]
    },
    {
     "data": {
      "text/latex": [
       "$\\displaystyle 1.0 \\alpha \\lambda^{2} - 0.0790687721022088 \\alpha \\lambda - 1.73342585508915 \\alpha + 1.0 \\lambda^{3} - 1.0 \\lambda^{2} - 1.0 \\lambda$"
      ],
      "text/plain": [
       "1.0*alpha*lambda**2 - 0.0790687721022088*alpha*lambda - 1.73342585508915*alpha + 1.0*lambda**3 - 1.0*lambda**2 - 1.0*lambda"
      ]
     },
     "execution_count": 47,
     "metadata": {},
     "output_type": "execute_result"
    }
   ],
   "source": [
    "# Compute the characteristic polynomial\n",
    "char_poly = phi_alpha.charpoly().as_expr()\n",
    "\n",
    "# Expand the characteristic polynomial to separate terms\n",
    "char_poly_expanded = sp.expand(char_poly)\n",
    "\n",
    "# Display the results\n",
    "print(\"Characteristic Polynomial:\")\n",
    "char_poly_expanded"
   ]
  },
  {
   "cell_type": "code",
   "execution_count": null,
   "metadata": {},
   "outputs": [
    {
     "ename": "NameError",
     "evalue": "name 'char_poly_expanded' is not defined",
     "output_type": "error",
     "traceback": [
      "\u001b[0;31m---------------------------------------------------------------------------\u001b[0m",
      "\u001b[0;31mNameError\u001b[0m                                 Traceback (most recent call last)",
      "\u001b[1;32m/home/factslabegmc/python_control/TRO_ProofWork.ipynb Cell 20\u001b[0m line \u001b[0;36m2\n\u001b[1;32m      <a href='vscode-notebook-cell:/home/factslabegmc/python_control/TRO_ProofWork.ipynb#Y101sZmlsZQ%3D%3D?line=0'>1</a>\u001b[0m \u001b[39m# Factor the polynomial to isolate alpha\u001b[39;00m\n\u001b[0;32m----> <a href='vscode-notebook-cell:/home/factslabegmc/python_control/TRO_ProofWork.ipynb#Y101sZmlsZQ%3D%3D?line=1'>2</a>\u001b[0m factored_poly \u001b[39m=\u001b[39m sp\u001b[39m.\u001b[39mcollect(char_poly_expanded, alpha)\n\u001b[1;32m      <a href='vscode-notebook-cell:/home/factslabegmc/python_control/TRO_ProofWork.ipynb#Y101sZmlsZQ%3D%3D?line=3'>4</a>\u001b[0m \u001b[39m# Extract the coefficient of alpha and independent terms\u001b[39;00m\n\u001b[1;32m      <a href='vscode-notebook-cell:/home/factslabegmc/python_control/TRO_ProofWork.ipynb#Y101sZmlsZQ%3D%3D?line=4'>5</a>\u001b[0m P0 \u001b[39m=\u001b[39m factored_poly\u001b[39m.\u001b[39mcoeff(alpha)\n",
      "\u001b[0;31mNameError\u001b[0m: name 'char_poly_expanded' is not defined"
     ]
    }
   ],
   "source": [
    "# Factor the polynomial to isolate alpha\n",
    "factored_poly = sp.collect(char_poly_expanded, alpha)\n",
    "\n",
    "# Extract the coefficient of alpha and independent terms\n",
    "P0 = factored_poly.coeff(alpha)\n",
    "P1 = factored_poly - alpha * P0\n",
    "\n",
    "# Display the results\n",
    "print(\"Factored Polynomial:\", factored_poly)\n",
    "print(\"Coefficient of alpha:\", P0)\n",
    "print(\"Independent part:\", P1)\n",
    "\n",
    "\n",
    "# Solve for lambda in both cases\n",
    "ll = sp.symbols('lambda')  # Unicode lambda\n",
    "poles_P0 = sp.solve(P0, ll)\n",
    "print(\"Poles (terms multiplied by alpha):\", poles_P0)\n"
   ]
  },
  {
   "cell_type": "code",
   "execution_count": null,
   "metadata": {},
   "outputs": [],
   "source": []
  },
  {
   "cell_type": "code",
   "execution_count": null,
   "metadata": {},
   "outputs": [],
   "source": []
  },
  {
   "cell_type": "markdown",
   "metadata": {},
   "source": [
    "# Do it with Jax!"
   ]
  },
  {
   "cell_type": "code",
   "execution_count": 33,
   "metadata": {},
   "outputs": [],
   "source": [
    "import jax\n",
    "import jax.numpy as jnp\n",
    "from jax import jit, jacfwd, lax\n",
    "import numpy as np\n",
    "\n",
    "\n",
    "## Cross product operator (S operator)\n",
    "@jit\n",
    "def S(r):\n",
    "    return jnp.block([[  0,       -r[2],    r[1]],\n",
    "                     [r[2],     0,      -r[0]],\n",
    "                     [-r[1],    r[0],      0]])\n",
    "\n",
    "@jit\n",
    "def H(r):\n",
    "    return jnp.block([[jnp.identity(3), S(r).T],\n",
    "                     [jnp.zeros((3, 3)), jnp.identity(3)]])\n",
    "\n",
    "## Rotation matrices\n",
    "@jit\n",
    "def R_b__n(phi, theta, psi):\n",
    "    x_rot = jnp.array([[1,         0,           0],\n",
    "                      [0,       jnp.cos(phi),   - jnp.sin(phi)],\n",
    "                      [0,       jnp.sin(phi),    jnp.cos(phi)]])\n",
    "    y_rot = jnp.array([[ jnp.cos(theta),      0,        jnp.sin(theta)],\n",
    "                      [0,         1,           0],\n",
    "                      [- jnp.sin(theta),     0,        jnp.cos(theta)]])\n",
    "    z_rot = jnp.array([[ jnp.cos(psi),    - jnp.sin(psi),       0],\n",
    "                      [ jnp.sin(psi),     jnp.cos(psi),       0],\n",
    "                      [0,          0,           1]])\n",
    "    return z_rot @ y_rot @ x_rot\n",
    "\n",
    "@jit\n",
    "def R_b__n_inv(phi, theta, psi):\n",
    "    return jnp.array([[ jnp.cos(psi)* jnp.cos(theta), jnp.cos(theta)* jnp.sin(psi), - jnp.sin(theta)],\n",
    "                     [ jnp.cos(psi)* jnp.sin(phi)* jnp.sin(theta) - jnp.cos(phi)* jnp.sin(psi), \n",
    "                      jnp.cos(phi)* jnp.cos(psi) + jnp.sin(phi)* jnp.sin(psi)* jnp.sin(theta), \n",
    "                      jnp.cos(theta)* jnp.sin(phi)],\n",
    "                     [ jnp.sin(phi)* jnp.sin(psi) + jnp.cos(phi)* jnp.cos(psi)* jnp.sin(theta), \n",
    "                      jnp.cos(phi)* jnp.sin(psi)* jnp.sin(theta) - jnp.cos(psi)* jnp.sin(phi), \n",
    "                      jnp.cos(phi)* jnp.cos(theta)]])\n",
    "\n",
    "## Transformation matrix for angular velocity\n",
    "@jit\n",
    "def T(phi, theta):\n",
    "    return jnp.array([[1,     jnp.sin(phi)* jnp.tan(theta),      jnp.cos(phi)* jnp.tan(theta)],\n",
    "                     [0,          jnp.cos(phi),                   - jnp.sin(phi)],\n",
    "                     [0,     jnp.sin(phi)/jnp.cos(theta),      jnp.cos(phi)/jnp.cos(theta)]])\n",
    "\n",
    "\n",
    "Henv = 0.51  # Height of the envelope (m)\n",
    "Hgon = 0.04  # Height of the gondola (m)\n",
    "r_z_gb__b = 0.05  # Distance from CG to CB (m)\n",
    "dvt = Henv / 2 + Hgon # Distance from CB to motor thrust application point\n",
    "r_z_tg__b = dvt - r_z_gb__b  # Distance from CB to thrust generation point\n",
    "r_z_gb__b = 0.05\n",
    "r_gb__b = jnp.array([0, 0, r_z_gb__b]).T\n",
    "\n",
    "# Mass and inertia properties\n",
    "m_RB = 0.1249  # Mass of the blimp (kg)\n",
    "I_RBx = 0.005821  # Rotational inertia about x-axis (kg.m^2)\n",
    "M_RB_CG = jnp.diag(jnp.array([m_RB, m_RB, m_RB, I_RBx, I_RBx, I_RBx]))# Inertia matrix for the rigid body in body frame\n",
    "\n",
    "\n",
    "M_RB_CB = H(r_gb__b).T @ M_RB_CG @ H(r_gb__b)\n",
    "M_A_CB = jnp.diag(jnp.array([0.0466, 0.0466, 0.0545, 0.0, 0.0, 0.0])) # Added mass and inertia matrix (assuming hydrodynamics)\n",
    "\n",
    "# Total inertia matrix at the center of buoyancy\n",
    "M_CB = M_RB_CB + M_A_CB\n",
    "M_CB_inv = jnp.linalg.inv(M_CB)\n",
    "\n",
    "# Gravitational force in the navigation frame\n",
    "g_acc = 9.8  # Gravitational acceleration (m/s^2)\n",
    "fg_n = m_RB * jnp.array([0, 0, g_acc]).T  # Force due to gravity\n",
    "\n",
    "# Aerodynamic damping matrix\n",
    "D_CB = jnp.diag(jnp.array([0.0125, 0.0125, 0.0480, 0.000862, 0.000862, 0.000862]))\n",
    "\n",
    "##########################################################################################\n",
    "@jit # Coriolis matrix\n",
    "def C(M, nu):\n",
    "    dimM = jnp.shape(M)[0]\n",
    "    M11 = M[0:int(dimM/2), 0:int(dimM/2)]\n",
    "    M12 = M[0:int(dimM/2), int(dimM/2):dimM]\n",
    "    M21 = M[int(dimM/2):dimM, 0:int(dimM/2)]\n",
    "    M22 = M[int(dimM/2):dimM, int(dimM/2):dimM]\n",
    "    dimNu = jnp.shape(nu)[0]\n",
    "    nu1 = nu[0:int(dimNu/2)]\n",
    "    nu2 = nu[int(dimNu/2):dimNu]\n",
    "    return jnp.block([[ jnp.zeros((3, 3)),    -S(M11 @ nu1 + M12 @ nu2)],\n",
    "                     [-S(M11 @ nu1 + M12 @ nu2), -S(M21 @ nu1 + M22 @ nu2)]])\n",
    "\n",
    "##########################################################################################\n",
    "@jit # Dynamics function\n",
    "def dynamics(state, u):\n",
    "        curr_x, curr_y, curr_z, curr_vx, curr_vy, curr_vz, curr_roll, curr_pitch, curr_yaw, curr_wx, curr_wy, curr_wz = state\n",
    "        tau_B = jnp.array([u[0][0],\n",
    "                        u[1][0],\n",
    "                        u[2][0],\n",
    "                        -r_z_tg__b * u[1][0],\n",
    "                        r_z_tg__b * u[0][0],\n",
    "                        u[3][0]]).reshape((6,1))\n",
    "        \n",
    "        nu_bn_b = jnp.array([curr_vx, curr_vy, curr_vz, curr_wx, curr_wy, curr_wz]).reshape((6,1))\n",
    "        fg_B = R_b__n_inv(curr_roll, curr_pitch, curr_yaw) @ fg_n\n",
    "        g_CB = -jnp.block([[jnp.zeros((3, 1))],\n",
    "                        [jnp.reshape(jnp.cross(r_gb__b, fg_B), (3, 1))]])\n",
    "        \n",
    "        x = curr_x\n",
    "        y = curr_y\n",
    "        z = curr_z\n",
    "        vx = curr_vx\n",
    "        vy = curr_vy\n",
    "        vz = curr_vz\n",
    "        roll = curr_roll\n",
    "        pitch = curr_pitch\n",
    "        yaw = curr_yaw\n",
    "        wx = curr_wx\n",
    "        wy = curr_wy\n",
    "        wz = curr_wz\n",
    "\n",
    "\n",
    "        # Update state derivatives\n",
    "        eta_bn_n_dot = jnp.block([[R_b__n(roll, pitch, yaw), jnp.zeros((3, 3))],\n",
    "                                [jnp.zeros((3, 3)), T(roll, pitch)]]) @ nu_bn_b\n",
    "\n",
    "        nu_bn_b_dot = jnp.reshape(-M_CB_inv @ (C(M_CB, nu_bn_b) @ nu_bn_b + \n",
    "                            D_CB @ nu_bn_b + g_CB - tau_B), (6, 1))\n",
    "\n",
    "        xdot = eta_bn_n_dot[0][0]\n",
    "        ydot = eta_bn_n_dot[1][0]\n",
    "        zdot = eta_bn_n_dot[2][0]\n",
    "        vxdot = nu_bn_b_dot[0][0]\n",
    "        vydot = nu_bn_b_dot[1][0]\n",
    "        vzdot = nu_bn_b_dot[2][0]\n",
    "        rolldot = eta_bn_n_dot[3][0]\n",
    "        pitchdot = eta_bn_n_dot[4][0]\n",
    "        yawdot = eta_bn_n_dot[5][0]\n",
    "        wxdot = nu_bn_b_dot[3][0]\n",
    "        wydot = nu_bn_b_dot[4][0]\n",
    "        wzdot = nu_bn_b_dot[5][0]\n",
    "\n",
    "\n",
    "        return jnp.array([xdot, ydot, zdot, vxdot, vydot, vzdot, rolldot, pitchdot, yawdot, wxdot, wydot, wzdot])\n",
    "\n",
    "@jit # Euler integration\n",
    "def integrate_dynamics(state, inputs, integration_step, integrations_int):\n",
    "    def for_function(i, current_state):\n",
    "        return current_state + dynamics(current_state, inputs) * integration_step\n",
    "    pred_state = lax.fori_loop(0, integrations_int, for_function, state)\n",
    "    return pred_state\n",
    "\n",
    "@jit # Compute Jacobian\n",
    "def euler_jacU(state, inputs, T_lookahead, integration_step, C):\n",
    "    jacobianU = jacfwd(euler_pred, argnums=1)(state, inputs, T_lookahead, integration_step, C)\n",
    "    return jacobianU.reshape(4,4)\n",
    "\n",
    "@jit # Prediction with Euler integration\n",
    "def euler_pred(state, inputs, T_lookahead, integration_step, C):\n",
    "    integrations_int = (T_lookahead / integration_step).astype(int)\n",
    "    pred_state = integrate_dynamics(state, inputs, integration_step, integrations_int)\n",
    "    return C@pred_state\n",
    "\n",
    "@jit # Compute adjusted inverse Jacobian\n",
    "def euler_invjacU(state, inputs, T_lookahead, integration_step, C):\n",
    "    jac = euler_jacU(state, inputs, T_lookahead, integration_step, C)\n",
    "    regularization_term = 1e-9\n",
    "    jac += jnp.eye(jac.shape[0]) * regularization_term\n",
    "    \n",
    "    cond_number = jnp.linalg.cond(jac)\n",
    "    inv_jacobianU = jnp.linalg.pinv(jac)\n",
    "    return inv_jacobianU, cond_number\n",
    "\n",
    "@jit\n",
    "def state_pred_full(state, inputs, T_lookahead, integration_step):\n",
    "    integrations_int = (T_lookahead / integration_step).astype(int)\n",
    "    pred_state = integrate_dynamics(state, inputs, integration_step, integrations_int)\n",
    "    return pred_state\n",
    "\n",
    "@jit # Compute B_lin\n",
    "def state_euler_jacU_full(state, inputs, T_lookahead, integration_step):\n",
    "    jacobianU = jacfwd(state_pred_full, argnums=1)(state, inputs, T_lookahead, integration_step)\n",
    "    return jacobianU.squeeze()\n",
    "\n",
    "@jit # Compute A_lin\n",
    "def state_euler_jacX_full(state, inputs, T_lookahead, integration_step):\n",
    "    jacobianU = jacfwd(state_pred_full, argnums=0)(state, inputs, T_lookahead, integration_step)\n",
    "    return jacobianU"
   ]
  },
  {
   "cell_type": "code",
   "execution_count": 34,
   "metadata": {},
   "outputs": [
    {
     "name": "stdout",
     "output_type": "stream",
     "text": [
      "observer_matrix_jax = Array([[1., 0., 0., 0., 0., 0., 0., 0., 0., 0., 0., 0.],\n",
      "       [0., 1., 0., 0., 0., 0., 0., 0., 0., 0., 0., 0.],\n",
      "       [0., 0., 1., 0., 0., 0., 0., 0., 0., 0., 0., 0.],\n",
      "       [0., 0., 0., 0., 0., 0., 0., 0., 1., 0., 0., 0.]], dtype=float32)\n",
      "hover_state = Array([ 0. ,  0. , -0.3,  0. ,  0. ,  0. ,  0. ,  0. ,  0. ,  0. ,  0. ,\n",
      "        0. ], dtype=float32)\n",
      "hover_input = Array([[0.],\n",
      "       [0.],\n",
      "       [0.],\n",
      "       [0.]], dtype=float32)\n"
     ]
    }
   ],
   "source": [
    "# HOVER STATE AND INPUT\n",
    "hover_state = jnp.array([0., 0., -0.3, 0., 0., 0., 0., 0., 0.0, 0., 0., 0.])\n",
    "hover_input = jnp.array([[0.], [0.], [0.], [0.]])\n",
    "integration_step = 0.01\n",
    "T_lookahead = 0.25\n",
    "\n",
    "# Compute Jacobian\n",
    "observer_matrix = np.zeros([4,12])\n",
    "observer_matrix[0,0],observer_matrix[1,1], observer_matrix[2,2], observer_matrix[3,8] = 1,1,1,1\n",
    "observer_matrix_jax = jnp.array(observer_matrix)\n",
    "print(f\"{observer_matrix_jax = }\")\n",
    "print(f\"{hover_state = }\")\n",
    "print(f\"{hover_input = }\")\n",
    "dgdu, conditionnum = euler_invjacU(hover_state, hover_input, T_lookahead, integration_step, observer_matrix_jax)"
   ]
  },
  {
   "cell_type": "code",
   "execution_count": 35,
   "metadata": {},
   "outputs": [
    {
     "name": "stdout",
     "output_type": "stream",
     "text": [
      "B_lin = array([[ 0.13762006,  0.        ,  0.        ,  0.        ],\n",
      "       [ 0.        ,  0.13762006,  0.        ,  0.        ],\n",
      "       [ 0.        ,  0.        ,  0.16384377,  0.        ],\n",
      "       [ 1.16082525,  0.        ,  0.        ,  0.        ],\n",
      "       [ 0.        ,  1.16082525,  0.        ,  0.        ],\n",
      "       [ 0.        ,  0.        ,  1.34969628,  0.        ],\n",
      "       [ 0.        , -1.00350368,  0.        ,  0.        ],\n",
      "       [ 1.00350368,  0.        ,  0.        ,  0.        ],\n",
      "       [ 0.        ,  0.        ,  0.        ,  5.09571505],\n",
      "       [ 0.        , -7.87802076,  0.        ,  0.        ],\n",
      "       [ 7.87802076,  0.        ,  0.        ,  0.        ],\n",
      "       [ 0.        ,  0.        ,  0.        , 42.19334793]])\n",
      "A_lin = array([[ 1.00000000e+00,  0.00000000e+00,  0.00000000e+00,\n",
      "         2.47746810e-01,  0.00000000e+00,  0.00000000e+00,\n",
      "         0.00000000e+00,  1.06499624e-02,  0.00000000e+00,\n",
      "         0.00000000e+00,  9.87074687e-04,  0.00000000e+00],\n",
      "       [ 0.00000000e+00,  1.00000000e+00,  0.00000000e+00,\n",
      "         0.00000000e+00,  2.47746810e-01,  0.00000000e+00,\n",
      "        -1.06499624e-02,  0.00000000e+00,  0.00000000e+00,\n",
      "        -9.87074687e-04,  0.00000000e+00,  0.00000000e+00],\n",
      "       [ 0.00000000e+00,  0.00000000e+00,  1.00000000e+00,\n",
      "         0.00000000e+00,  0.00000000e+00,  2.42135480e-01,\n",
      "         0.00000000e+00,  0.00000000e+00,  0.00000000e+00,\n",
      "         0.00000000e+00,  0.00000000e+00,  0.00000000e+00],\n",
      "       [ 0.00000000e+00,  0.00000000e+00,  0.00000000e+00,\n",
      "         9.81323361e-01,  0.00000000e+00,  0.00000000e+00,\n",
      "         0.00000000e+00,  8.32585171e-02,  0.00000000e+00,\n",
      "         0.00000000e+00,  1.18226372e-02,  0.00000000e+00],\n",
      "       [ 0.00000000e+00,  0.00000000e+00,  0.00000000e+00,\n",
      "         0.00000000e+00,  9.81323361e-01,  0.00000000e+00,\n",
      "        -8.32585171e-02,  0.00000000e+00,  0.00000000e+00,\n",
      "        -1.18226372e-02,  0.00000000e+00,  0.00000000e+00],\n",
      "       [ 0.00000000e+00,  0.00000000e+00,  0.00000000e+00,\n",
      "         0.00000000e+00,  0.00000000e+00,  9.35214639e-01,\n",
      "         0.00000000e+00,  0.00000000e+00,  0.00000000e+00,\n",
      "         0.00000000e+00,  0.00000000e+00,  0.00000000e+00],\n",
      "       [ 0.00000000e+00,  0.00000000e+00,  0.00000000e+00,\n",
      "         0.00000000e+00, -2.17520189e-03,  0.00000000e+00,\n",
      "         7.05855608e-01,  0.00000000e+00,  0.00000000e+00,\n",
      "         2.22776055e-01,  0.00000000e+00,  0.00000000e+00],\n",
      "       [ 0.00000000e+00,  0.00000000e+00,  0.00000000e+00,\n",
      "         2.17520189e-03,  0.00000000e+00,  0.00000000e+00,\n",
      "         0.00000000e+00,  7.05855608e-01,  0.00000000e+00,\n",
      "         0.00000000e+00,  2.22776055e-01,  0.00000000e+00],\n",
      "       [ 0.00000000e+00,  0.00000000e+00,  0.00000000e+00,\n",
      "         0.00000000e+00,  0.00000000e+00,  0.00000000e+00,\n",
      "         0.00000000e+00,  0.00000000e+00,  1.00000000e+00,\n",
      "         0.00000000e+00,  0.00000000e+00,  2.45607480e-01],\n",
      "       [ 0.00000000e+00,  0.00000000e+00,  0.00000000e+00,\n",
      "         0.00000000e+00, -1.70051400e-02,  0.00000000e+00,\n",
      "        -2.30776000e+00,  0.00000000e+00,  0.00000000e+00,\n",
      "         6.73351347e-01,  0.00000000e+00,  0.00000000e+00],\n",
      "       [ 0.00000000e+00,  0.00000000e+00,  0.00000000e+00,\n",
      "         1.70051400e-02,  0.00000000e+00,  0.00000000e+00,\n",
      "         0.00000000e+00, -2.30776000e+00,  0.00000000e+00,\n",
      "         0.00000000e+00,  6.73351347e-01,  0.00000000e+00],\n",
      "       [ 0.00000000e+00,  0.00000000e+00,  0.00000000e+00,\n",
      "         0.00000000e+00,  0.00000000e+00,  0.00000000e+00,\n",
      "         0.00000000e+00,  0.00000000e+00,  0.00000000e+00,\n",
      "         0.00000000e+00,  0.00000000e+00,  9.63629365e-01]])\n"
     ]
    }
   ],
   "source": [
    "B_lin = np.array(state_euler_jacU_full(hover_state, hover_input, T_lookahead, integration_step).tolist())\n",
    "A_lin = np.array(state_euler_jacX_full(hover_state, hover_input, T_lookahead, integration_step).tolist())\n",
    "print(f\"{B_lin = }\")\n",
    "print(f\"{A_lin = }\")"
   ]
  },
  {
   "cell_type": "code",
   "execution_count": 36,
   "metadata": {},
   "outputs": [
    {
     "ename": "NameError",
     "evalue": "name 'array' is not defined",
     "output_type": "error",
     "traceback": [
      "\u001b[0;31m---------------------------------------------------------------------------\u001b[0m",
      "\u001b[0;31mNameError\u001b[0m                                 Traceback (most recent call last)",
      "\u001b[1;32m/home/factslabegmc/python_control/TRO_ProofWork.ipynb Cell 28\u001b[0m line \u001b[0;36m1\n\u001b[0;32m----> <a href='vscode-notebook-cell:/home/factslabegmc/python_control/TRO_ProofWork.ipynb#X35sZmlsZQ%3D%3D?line=0'>1</a>\u001b[0m B_lin \u001b[39m=\u001b[39m array([[ \u001b[39m0.13762006\u001b[39m,  \u001b[39m0.\u001b[39m        ,  \u001b[39m0.\u001b[39m        ,  \u001b[39m0.\u001b[39m        ],\n\u001b[1;32m      <a href='vscode-notebook-cell:/home/factslabegmc/python_control/TRO_ProofWork.ipynb#X35sZmlsZQ%3D%3D?line=1'>2</a>\u001b[0m        [ \u001b[39m0.\u001b[39m        ,  \u001b[39m0.13762006\u001b[39m,  \u001b[39m0.\u001b[39m        ,  \u001b[39m0.\u001b[39m        ],\n\u001b[1;32m      <a href='vscode-notebook-cell:/home/factslabegmc/python_control/TRO_ProofWork.ipynb#X35sZmlsZQ%3D%3D?line=2'>3</a>\u001b[0m        [ \u001b[39m0.\u001b[39m        ,  \u001b[39m0.\u001b[39m        ,  \u001b[39m0.16384377\u001b[39m,  \u001b[39m0.\u001b[39m        ],\n\u001b[1;32m      <a href='vscode-notebook-cell:/home/factslabegmc/python_control/TRO_ProofWork.ipynb#X35sZmlsZQ%3D%3D?line=3'>4</a>\u001b[0m        [ \u001b[39m1.16082525\u001b[39m,  \u001b[39m0.\u001b[39m        ,  \u001b[39m0.\u001b[39m        ,  \u001b[39m0.\u001b[39m        ],\n\u001b[1;32m      <a href='vscode-notebook-cell:/home/factslabegmc/python_control/TRO_ProofWork.ipynb#X35sZmlsZQ%3D%3D?line=4'>5</a>\u001b[0m        [ \u001b[39m0.\u001b[39m        ,  \u001b[39m1.16082525\u001b[39m,  \u001b[39m0.\u001b[39m        ,  \u001b[39m0.\u001b[39m        ],\n\u001b[1;32m      <a href='vscode-notebook-cell:/home/factslabegmc/python_control/TRO_ProofWork.ipynb#X35sZmlsZQ%3D%3D?line=5'>6</a>\u001b[0m        [ \u001b[39m0.\u001b[39m        ,  \u001b[39m0.\u001b[39m        ,  \u001b[39m1.34969628\u001b[39m,  \u001b[39m0.\u001b[39m        ],\n\u001b[1;32m      <a href='vscode-notebook-cell:/home/factslabegmc/python_control/TRO_ProofWork.ipynb#X35sZmlsZQ%3D%3D?line=6'>7</a>\u001b[0m        [ \u001b[39m0.\u001b[39m        , \u001b[39m-\u001b[39m\u001b[39m1.00350368\u001b[39m,  \u001b[39m0.\u001b[39m        ,  \u001b[39m0.\u001b[39m        ],\n\u001b[1;32m      <a href='vscode-notebook-cell:/home/factslabegmc/python_control/TRO_ProofWork.ipynb#X35sZmlsZQ%3D%3D?line=7'>8</a>\u001b[0m        [ \u001b[39m1.00350368\u001b[39m,  \u001b[39m0.\u001b[39m        ,  \u001b[39m0.\u001b[39m        ,  \u001b[39m0.\u001b[39m        ],\n\u001b[1;32m      <a href='vscode-notebook-cell:/home/factslabegmc/python_control/TRO_ProofWork.ipynb#X35sZmlsZQ%3D%3D?line=8'>9</a>\u001b[0m        [ \u001b[39m0.\u001b[39m        ,  \u001b[39m0.\u001b[39m        ,  \u001b[39m0.\u001b[39m        ,  \u001b[39m5.09571505\u001b[39m],\n\u001b[1;32m     <a href='vscode-notebook-cell:/home/factslabegmc/python_control/TRO_ProofWork.ipynb#X35sZmlsZQ%3D%3D?line=9'>10</a>\u001b[0m        [ \u001b[39m0.\u001b[39m        , \u001b[39m-\u001b[39m\u001b[39m7.87802076\u001b[39m,  \u001b[39m0.\u001b[39m        ,  \u001b[39m0.\u001b[39m        ],\n\u001b[1;32m     <a href='vscode-notebook-cell:/home/factslabegmc/python_control/TRO_ProofWork.ipynb#X35sZmlsZQ%3D%3D?line=10'>11</a>\u001b[0m        [ \u001b[39m7.87802076\u001b[39m,  \u001b[39m0.\u001b[39m        ,  \u001b[39m0.\u001b[39m        ,  \u001b[39m0.\u001b[39m        ],\n\u001b[1;32m     <a href='vscode-notebook-cell:/home/factslabegmc/python_control/TRO_ProofWork.ipynb#X35sZmlsZQ%3D%3D?line=11'>12</a>\u001b[0m        [ \u001b[39m0.\u001b[39m        ,  \u001b[39m0.\u001b[39m        ,  \u001b[39m0.\u001b[39m        , \u001b[39m42.19334793\u001b[39m]])\n\u001b[1;32m     <a href='vscode-notebook-cell:/home/factslabegmc/python_control/TRO_ProofWork.ipynb#X35sZmlsZQ%3D%3D?line=12'>13</a>\u001b[0m A_lin \u001b[39m=\u001b[39m array([[ \u001b[39m1.00000000e+00\u001b[39m,  \u001b[39m0.00000000e+00\u001b[39m,  \u001b[39m0.00000000e+00\u001b[39m,\n\u001b[1;32m     <a href='vscode-notebook-cell:/home/factslabegmc/python_control/TRO_ProofWork.ipynb#X35sZmlsZQ%3D%3D?line=13'>14</a>\u001b[0m          \u001b[39m2.47746810e-01\u001b[39m,  \u001b[39m0.00000000e+00\u001b[39m,  \u001b[39m0.00000000e+00\u001b[39m,\n\u001b[1;32m     <a href='vscode-notebook-cell:/home/factslabegmc/python_control/TRO_ProofWork.ipynb#X35sZmlsZQ%3D%3D?line=14'>15</a>\u001b[0m          \u001b[39m0.00000000e+00\u001b[39m,  \u001b[39m1.06499624e-02\u001b[39m,  \u001b[39m0.00000000e+00\u001b[39m,\n\u001b[0;32m   (...)\u001b[0m\n\u001b[1;32m     <a href='vscode-notebook-cell:/home/factslabegmc/python_control/TRO_ProofWork.ipynb#X35sZmlsZQ%3D%3D?line=58'>59</a>\u001b[0m          \u001b[39m0.00000000e+00\u001b[39m,  \u001b[39m0.00000000e+00\u001b[39m,  \u001b[39m0.00000000e+00\u001b[39m,\n\u001b[1;32m     <a href='vscode-notebook-cell:/home/factslabegmc/python_control/TRO_ProofWork.ipynb#X35sZmlsZQ%3D%3D?line=59'>60</a>\u001b[0m          \u001b[39m0.00000000e+00\u001b[39m,  \u001b[39m0.00000000e+00\u001b[39m,  \u001b[39m9.63629365e-01\u001b[39m]])\n",
      "\u001b[0;31mNameError\u001b[0m: name 'array' is not defined"
     ]
    }
   ],
   "source": [
    "# B_lin = array([[ 0.13762006,  0.        ,  0.        ,  0.        ],\n",
    "#        [ 0.        ,  0.13762006,  0.        ,  0.        ],\n",
    "#        [ 0.        ,  0.        ,  0.16384377,  0.        ],\n",
    "#        [ 1.16082525,  0.        ,  0.        ,  0.        ],\n",
    "#        [ 0.        ,  1.16082525,  0.        ,  0.        ],\n",
    "#        [ 0.        ,  0.        ,  1.34969628,  0.        ],\n",
    "#        [ 0.        , -1.00350368,  0.        ,  0.        ],\n",
    "#        [ 1.00350368,  0.        ,  0.        ,  0.        ],\n",
    "#        [ 0.        ,  0.        ,  0.        ,  5.09571505],\n",
    "#        [ 0.        , -7.87802076,  0.        ,  0.        ],\n",
    "#        [ 7.87802076,  0.        ,  0.        ,  0.        ],\n",
    "#        [ 0.        ,  0.        ,  0.        , 42.19334793]])\n",
    "# A_lin = array([[ 1.00000000e+00,  0.00000000e+00,  0.00000000e+00,\n",
    "#          2.47746810e-01,  0.00000000e+00,  0.00000000e+00,\n",
    "#          0.00000000e+00,  1.06499624e-02,  0.00000000e+00,\n",
    "#          0.00000000e+00,  9.87074687e-04,  0.00000000e+00],\n",
    "#        [ 0.00000000e+00,  1.00000000e+00,  0.00000000e+00,\n",
    "#          0.00000000e+00,  2.47746810e-01,  0.00000000e+00,\n",
    "#         -1.06499624e-02,  0.00000000e+00,  0.00000000e+00,\n",
    "#         -9.87074687e-04,  0.00000000e+00,  0.00000000e+00],\n",
    "#        [ 0.00000000e+00,  0.00000000e+00,  1.00000000e+00,\n",
    "#          0.00000000e+00,  0.00000000e+00,  2.42135480e-01,\n",
    "#          0.00000000e+00,  0.00000000e+00,  0.00000000e+00,\n",
    "#          0.00000000e+00,  0.00000000e+00,  0.00000000e+00],\n",
    "#        [ 0.00000000e+00,  0.00000000e+00,  0.00000000e+00,\n",
    "#          9.81323361e-01,  0.00000000e+00,  0.00000000e+00,\n",
    "#          0.00000000e+00,  8.32585171e-02,  0.00000000e+00,\n",
    "#          0.00000000e+00,  1.18226372e-02,  0.00000000e+00],\n",
    "#        [ 0.00000000e+00,  0.00000000e+00,  0.00000000e+00,\n",
    "#          0.00000000e+00,  9.81323361e-01,  0.00000000e+00,\n",
    "#         -8.32585171e-02,  0.00000000e+00,  0.00000000e+00,\n",
    "#         -1.18226372e-02,  0.00000000e+00,  0.00000000e+00],\n",
    "#        [ 0.00000000e+00,  0.00000000e+00,  0.00000000e+00,\n",
    "#          0.00000000e+00,  0.00000000e+00,  9.35214639e-01,\n",
    "#          0.00000000e+00,  0.00000000e+00,  0.00000000e+00,\n",
    "#          0.00000000e+00,  0.00000000e+00,  0.00000000e+00],\n",
    "#        [ 0.00000000e+00,  0.00000000e+00,  0.00000000e+00,\n",
    "#          0.00000000e+00, -2.17520189e-03,  0.00000000e+00,\n",
    "#          7.05855608e-01,  0.00000000e+00,  0.00000000e+00,\n",
    "#          2.22776055e-01,  0.00000000e+00,  0.00000000e+00],\n",
    "#        [ 0.00000000e+00,  0.00000000e+00,  0.00000000e+00,\n",
    "#          2.17520189e-03,  0.00000000e+00,  0.00000000e+00,\n",
    "#          0.00000000e+00,  7.05855608e-01,  0.00000000e+00,\n",
    "#          0.00000000e+00,  2.22776055e-01,  0.00000000e+00],\n",
    "#        [ 0.00000000e+00,  0.00000000e+00,  0.00000000e+00,\n",
    "#          0.00000000e+00,  0.00000000e+00,  0.00000000e+00,\n",
    "#          0.00000000e+00,  0.00000000e+00,  1.00000000e+00,\n",
    "#          0.00000000e+00,  0.00000000e+00,  2.45607480e-01],\n",
    "#        [ 0.00000000e+00,  0.00000000e+00,  0.00000000e+00,\n",
    "#          0.00000000e+00, -1.70051400e-02,  0.00000000e+00,\n",
    "#         -2.30776000e+00,  0.00000000e+00,  0.00000000e+00,\n",
    "#          6.73351347e-01,  0.00000000e+00,  0.00000000e+00],\n",
    "#        [ 0.00000000e+00,  0.00000000e+00,  0.00000000e+00,\n",
    "#          1.70051400e-02,  0.00000000e+00,  0.00000000e+00,\n",
    "#          0.00000000e+00, -2.30776000e+00,  0.00000000e+00,\n",
    "#          0.00000000e+00,  6.73351347e-01,  0.00000000e+00],\n",
    "#        [ 0.00000000e+00,  0.00000000e+00,  0.00000000e+00,\n",
    "#          0.00000000e+00,  0.00000000e+00,  0.00000000e+00,\n",
    "#          0.00000000e+00,  0.00000000e+00,  0.00000000e+00,\n",
    "#          0.00000000e+00,  0.00000000e+00,  9.63629365e-01]])"
   ]
  },
  {
   "cell_type": "code",
   "execution_count": 37,
   "metadata": {},
   "outputs": [
    {
     "name": "stdout",
     "output_type": "stream",
     "text": [
      "C = array([[1., 0., 0., 0., 0., 0., 0., 0., 0., 0., 0., 0.],\n",
      "       [0., 1., 0., 0., 0., 0., 0., 0., 0., 0., 0., 0.],\n",
      "       [0., 0., 1., 0., 0., 0., 0., 0., 0., 0., 0., 0.],\n",
      "       [0., 0., 0., 0., 0., 0., 0., 0., 1., 0., 0., 0.]])\n",
      "np.linalg.matrix_rank(linearized_blimp_controllability_matrix) = 12\n",
      "A_lin.shape = (12, 12)\n",
      "The system is controllable\n"
     ]
    }
   ],
   "source": [
    "C = np.zeros([4,12])\n",
    "C[0,0],C[1,1], C[2,2], C[3,8] = 1,1,1,1\n",
    "print(f\"{C = }\")\n",
    "\n",
    "# sys = ct.ss(A_lin, B_lin, np.eye(12), np.zeros((12, 4)))\n",
    "# Calculate the controllability matrix\n",
    "linearized_blimp_controllability_matrix = ct.ctrb(A_lin, B_lin)\n",
    "\n",
    "print(f\"{np.linalg.matrix_rank(linearized_blimp_controllability_matrix) = }\")  \n",
    "print(f\"{A_lin.shape = }\")\n",
    "if np.linalg.matrix_rank(linearized_blimp_controllability_matrix) == A_lin.shape[0]:\n",
    "    print(\"The system is controllable\")\n",
    "else:\n",
    "    print(\"The system is not controllable\")\n",
    "\n"
   ]
  },
  {
   "cell_type": "code",
   "execution_count": 38,
   "metadata": {},
   "outputs": [],
   "source": [
    "# Define state-space matrices\n",
    "A = A_lin  # 12x12\n",
    "B = B_lin  # 12x4\n",
    "C = C      # 4x12\n",
    "# D = np.zeros((4, 4))  # 4x4 zero matrix"
   ]
  },
  {
   "cell_type": "code",
   "execution_count": 39,
   "metadata": {},
   "outputs": [
    {
     "ename": "TypeError",
     "evalue": "unsupported operand type(s) for *: 'float' and 'PjitFunction'",
     "output_type": "error",
     "traceback": [
      "\u001b[0;31m---------------------------------------------------------------------------\u001b[0m",
      "\u001b[0;31mTypeError\u001b[0m                                 Traceback (most recent call last)",
      "\u001b[1;32m/home/factslabegmc/python_control/TRO_ProofWork.ipynb Cell 31\u001b[0m line \u001b[0;36m1\n\u001b[0;32m----> <a href='vscode-notebook-cell:/home/factslabegmc/python_control/TRO_ProofWork.ipynb#X41sZmlsZQ%3D%3D?line=0'>1</a>\u001b[0m np\u001b[39m.\u001b[39mexp2(A\u001b[39m*\u001b[39;49mT)\n",
      "\u001b[0;31mTypeError\u001b[0m: unsupported operand type(s) for *: 'float' and 'PjitFunction'"
     ]
    }
   ],
   "source": [
    "np.exp2(A*T)"
   ]
  },
  {
   "cell_type": "code",
   "execution_count": 40,
   "metadata": {},
   "outputs": [
    {
     "name": "stdout",
     "output_type": "stream",
     "text": [
      "phi_alpha.shape = (16, 16)\n"
     ]
    }
   ],
   "source": [
    "# define phi_alpha matrix by block\n",
    "tl = A\n",
    "tr = B\n",
    "bl = -np.linalg.inv(C @np.linalg.inv(A)@ np.eye(A.shape[0]) @ B)@ C @ np.exp2(A* T_lookahead)\n",
    "br = -np.eye(C.shape[0])\n",
    "\n",
    "# print(f\"{tl.shape = }\")\n",
    "# print(f\"{tr.shape = }\")\n",
    "# print(f\"{bl.shape = }\")\n",
    "# print(f\"{br.shape = }\")\n",
    "\n",
    "phi_alpha = np.block([[tl, tr], [bl, br]])\n",
    "\n",
    "print(f\"{phi_alpha.shape = }\")"
   ]
  },
  {
   "cell_type": "code",
   "execution_count": 41,
   "metadata": {},
   "outputs": [
    {
     "name": "stdout",
     "output_type": "stream",
     "text": [
      "phi_alpha = Matrix([\n",
      "[                    1.0,                       0,                       0,       0.247746810317039,                       0,                       0,                       0,      0.0106499623507261,                       0,                       0,     0.00098707468714565,                      0, 0.137620061635971,                 0,                 0,                0],\n",
      "[                      0,                     1.0,                       0,                       0,       0.247746810317039,                       0,     -0.0106499623507261,                       0,                       0,    -0.00098707468714565,                       0,                      0,                 0, 0.137620061635971,                 0,                0],\n",
      "[                      0,                       0,                     1.0,                       0,                       0,       0.242135480046272,                       0,                       0,                       0,                       0,                       0,                      0,                 0,                 0, 0.163843765854836,                0],\n",
      "[                      0,                       0,                       0,        0.98132336139679,                       0,                       0,                       0,      0.0832585170865059,                       0,                       0,      0.0118226371705532,                      0,  1.16082525253296,                 0,                 0,                0],\n",
      "[                      0,                       0,                       0,                       0,        0.98132336139679,                       0,     -0.0832585170865059,                       0,                       0,     -0.0118226371705532,                       0,                      0,                 0,  1.16082525253296,                 0,                0],\n",
      "[                      0,                       0,                       0,                       0,                       0,       0.935214638710022,                       0,                       0,                       0,                       0,                       0,                      0,                 0,                 0,  1.34969627857208,                0],\n",
      "[                      0,                       0,                       0,                       0,    -0.00217520189471543,                       0,        0.70585560798645,                       0,                       0,       0.222776055335999,                       0,                      0,                 0, -1.00350368022919,                 0,                0],\n",
      "[                      0,                       0,                       0,     0.00217520189471543,                       0,                       0,                       0,        0.70585560798645,                       0,                       0,       0.222776055335999,                      0,  1.00350368022919,                 0,                 0,                0],\n",
      "[                      0,                       0,                       0,                       0,                       0,                       0,                       0,                       0,                     1.0,                       0,                       0,      0.245607480406761,                 0,                 0,                 0, 5.09571504592896],\n",
      "[                      0,                       0,                       0,                       0,     -0.0170051399618387,                       0,       -2.30776000022888,                       0,                       0,       0.673351347446442,                       0,                      0,                 0, -7.87802076339722,                 0,                0],\n",
      "[                      0,                       0,                       0,      0.0170051399618387,                       0,                       0,                       0,       -2.30776000022888,                       0,                       0,       0.673351347446442,                      0,  7.87802076339722,                 0,                 0,                0],\n",
      "[                      0,                       0,                       0,                       0,                       0,                       0,                       0,                       0,                       0,                       0,                       0,      0.963629364967346,                 0,                 0,                 0, 42.1933479309082],\n",
      "[ 7.88261662763924*alpha,  6.62846406500116*alpha,  6.62846406500116*alpha,  6.91922911405664*alpha,  6.62846406500116*alpha,  6.62846406500116*alpha,  6.62846406500116*alpha,  6.64070817590793*alpha,  6.62846406500116*alpha,  6.62846406500116*alpha,  6.62959794092468*alpha, 6.62846406500116*alpha,        -1.0*alpha,                 0,                 0,                0],\n",
      "[ 6.62846406500115*alpha,  7.88261662763923*alpha,  6.62846406500115*alpha,  6.62846406500115*alpha,  6.91922911405664*alpha,  6.62846406500115*alpha,  6.61624252973661*alpha,  6.62846406500115*alpha,  6.62846406500115*alpha,  6.62733038300714*alpha,  6.62846406500115*alpha, 6.62846406500115*alpha,                 0,        -1.0*alpha,                 0,                0],\n",
      "[ 5.38779349329645*alpha,  5.38779349329645*alpha,  6.40720235639351*alpha,  5.38779349329645*alpha,  5.38779349329645*alpha,  5.61866904984231*alpha,  5.38779349329645*alpha,  5.38779349329645*alpha,  5.38779349329645*alpha,  5.38779349329645*alpha,  5.38779349329645*alpha, 5.38779349329645*alpha,                 0,                 0,        -1.0*alpha,                0],\n",
      "[0.176727728889814*alpha, 0.176727728889814*alpha, 0.176727728889814*alpha, 0.176727728889814*alpha, 0.176727728889814*alpha, 0.176727728889814*alpha, 0.176727728889814*alpha, 0.176727728889814*alpha, 0.210165872614038*alpha, 0.176727728889814*alpha, 0.176727728889814*alpha, 0.18441171261263*alpha,                 0,                 0,                 0,       -1.0*alpha]])\n"
     ]
    }
   ],
   "source": [
    "# work with symbolic alpha variable and get characteristic polynomial\n",
    "# Define symbolic variable alpha\n",
    "alpha = sp.symbols('alpha')\n",
    "\n",
    "tl = sp.Matrix(tl)\n",
    "tr = sp.Matrix(tr)\n",
    "bl = sp.Matrix(bl)\n",
    "br = sp.Matrix(br)\n",
    "\n",
    "# Multiply the bottom row by alpha\n",
    "bl_alpha = alpha * bl\n",
    "br_alpha = alpha * br\n",
    "\n",
    "# Construct the full block matrix with symbolic alpha\n",
    "phi_alpha = sp.Matrix.vstack(\n",
    "    sp.Matrix.hstack(tl, tr),\n",
    "    sp.Matrix.hstack(bl_alpha, br_alpha)\n",
    ")\n",
    "\n",
    "\n",
    "\n",
    "print(f\"{phi_alpha = }\")"
   ]
  },
  {
   "cell_type": "code",
   "execution_count": null,
   "metadata": {},
   "outputs": [],
   "source": [
    "phi_alpha = Matrix([\n",
    "[                    1.0,                       0,                       0,       0.247746810317039,                       0,                       0,                       0,      0.0106499623507261,                       0,                       0,     0.00098707468714565,                      0, 0.137620061635971,                 0,                 0,                0],\n",
    "[                      0,                     1.0,                       0,                       0,       0.247746810317039,                       0,     -0.0106499623507261,                       0,                       0,    -0.00098707468714565,                       0,                      0,                 0, 0.137620061635971,                 0,                0],\n",
    "[                      0,                       0,                     1.0,                       0,                       0,       0.242135480046272,                       0,                       0,                       0,                       0,                       0,                      0,                 0,                 0, 0.163843765854836,                0],\n",
    "[                      0,                       0,                       0,        0.98132336139679,                       0,                       0,                       0,      0.0832585170865059,                       0,                       0,      0.0118226371705532,                      0,  1.16082525253296,                 0,                 0,                0],\n",
    "[                      0,                       0,                       0,                       0,        0.98132336139679,                       0,     -0.0832585170865059,                       0,                       0,     -0.0118226371705532,                       0,                      0,                 0,  1.16082525253296,                 0,                0],\n",
    "[                      0,                       0,                       0,                       0,                       0,       0.935214638710022,                       0,                       0,                       0,                       0,                       0,                      0,                 0,                 0,  1.34969627857208,                0],\n",
    "[                      0,                       0,                       0,                       0,    -0.00217520189471543,                       0,        0.70585560798645,                       0,                       0,       0.222776055335999,                       0,                      0,                 0, -1.00350368022919,                 0,                0],\n",
    "[                      0,                       0,                       0,     0.00217520189471543,                       0,                       0,                       0,        0.70585560798645,                       0,                       0,       0.222776055335999,                      0,  1.00350368022919,                 0,                 0,                0],\n",
    "[                      0,                       0,                       0,                       0,                       0,                       0,                       0,                       0,                     1.0,                       0,                       0,      0.245607480406761,                 0,                 0,                 0, 5.09571504592896],\n",
    "[                      0,                       0,                       0,                       0,     -0.0170051399618387,                       0,       -2.30776000022888,                       0,                       0,       0.673351347446442,                       0,                      0,                 0, -7.87802076339722,                 0,                0],\n",
    "[                      0,                       0,                       0,      0.0170051399618387,                       0,                       0,                       0,       -2.30776000022888,                       0,                       0,       0.673351347446442,                      0,  7.87802076339722,                 0,                 0,                0],\n",
    "[                      0,                       0,                       0,                       0,                       0,                       0,                       0,                       0,                       0,                       0,                       0,      0.963629364967346,                 0,                 0,                 0, 42.1933479309082],\n",
    "[ 7.88261662763924*alpha,  6.62846406500116*alpha,  6.62846406500116*alpha,  6.91922911405664*alpha,  6.62846406500116*alpha,  6.62846406500116*alpha,  6.62846406500116*alpha,  6.64070817590793*alpha,  6.62846406500116*alpha,  6.62846406500116*alpha,  6.62959794092468*alpha, 6.62846406500116*alpha,        -1.0*alpha,                 0,                 0,                0],\n",
    "[ 6.62846406500115*alpha,  7.88261662763923*alpha,  6.62846406500115*alpha,  6.62846406500115*alpha,  6.91922911405664*alpha,  6.62846406500115*alpha,  6.61624252973661*alpha,  6.62846406500115*alpha,  6.62846406500115*alpha,  6.62733038300714*alpha,  6.62846406500115*alpha, 6.62846406500115*alpha,                 0,        -1.0*alpha,                 0,                0],\n",
    "[ 5.38779349329645*alpha,  5.38779349329645*alpha,  6.40720235639351*alpha,  5.38779349329645*alpha,  5.38779349329645*alpha,  5.61866904984231*alpha,  5.38779349329645*alpha,  5.38779349329645*alpha,  5.38779349329645*alpha,  5.38779349329645*alpha,  5.38779349329645*alpha, 5.38779349329645*alpha,                 0,                 0,        -1.0*alpha,                0],\n",
    "[0.176727728889814*alpha, 0.176727728889814*alpha, 0.176727728889814*alpha, 0.176727728889814*alpha, 0.176727728889814*alpha, 0.176727728889814*alpha, 0.176727728889814*alpha, 0.176727728889814*alpha, 0.210165872614038*alpha, 0.176727728889814*alpha, 0.176727728889814*alpha, 0.18441171261263*alpha,                 0,                 0,                 0,       -1.0*alpha]])"
   ]
  },
  {
   "cell_type": "code",
   "execution_count": null,
   "metadata": {},
   "outputs": [
    {
     "ename": "KeyboardInterrupt",
     "evalue": "",
     "output_type": "error",
     "traceback": [
      "\u001b[0;31m---------------------------------------------------------------------------\u001b[0m",
      "\u001b[0;31mKeyboardInterrupt\u001b[0m                         Traceback (most recent call last)",
      "\u001b[1;32m/home/factslabegmc/python_control/TRO_ProofWork.ipynb Cell 32\u001b[0m line \u001b[0;36m2\n\u001b[1;32m      <a href='vscode-notebook-cell:/home/factslabegmc/python_control/TRO_ProofWork.ipynb#Y154sZmlsZQ%3D%3D?line=0'>1</a>\u001b[0m \u001b[39m# Compute the characteristic polynomial\u001b[39;00m\n\u001b[0;32m----> <a href='vscode-notebook-cell:/home/factslabegmc/python_control/TRO_ProofWork.ipynb#Y154sZmlsZQ%3D%3D?line=1'>2</a>\u001b[0m char_poly \u001b[39m=\u001b[39m phi_alpha\u001b[39m.\u001b[39;49mcharpoly()\u001b[39m.\u001b[39mas_expr()\n\u001b[1;32m      <a href='vscode-notebook-cell:/home/factslabegmc/python_control/TRO_ProofWork.ipynb#Y154sZmlsZQ%3D%3D?line=3'>4</a>\u001b[0m \u001b[39m# Expand the characteristic polynomial to separate terms\u001b[39;00m\n\u001b[1;32m      <a href='vscode-notebook-cell:/home/factslabegmc/python_control/TRO_ProofWork.ipynb#Y154sZmlsZQ%3D%3D?line=4'>5</a>\u001b[0m char_poly_expanded \u001b[39m=\u001b[39m sp\u001b[39m.\u001b[39mexpand(char_poly)\n",
      "File \u001b[0;32m~/.local/lib/python3.8/site-packages/sympy/matrices/matrices.py:121\u001b[0m, in \u001b[0;36mMatrixDeterminant.charpoly\u001b[0;34m(self, x, simplify)\u001b[0m\n\u001b[1;32m    120\u001b[0m \u001b[39mdef\u001b[39;00m \u001b[39mcharpoly\u001b[39m(\u001b[39mself\u001b[39m, x\u001b[39m=\u001b[39m\u001b[39m'\u001b[39m\u001b[39mlambda\u001b[39m\u001b[39m'\u001b[39m, simplify\u001b[39m=\u001b[39m_simplify):\n\u001b[0;32m--> 121\u001b[0m     \u001b[39mreturn\u001b[39;00m _charpoly(\u001b[39mself\u001b[39;49m, x\u001b[39m=\u001b[39;49mx, simplify\u001b[39m=\u001b[39;49msimplify)\n",
      "File \u001b[0;32m~/.local/lib/python3.8/site-packages/sympy/matrices/determinant.py:412\u001b[0m, in \u001b[0;36m_charpoly\u001b[0;34m(M, x, simplify)\u001b[0m\n\u001b[1;32m    409\u001b[0m     \u001b[39mreturn\u001b[39;00m PurePoly(m, x)\n\u001b[1;32m    411\u001b[0m berk_vector \u001b[39m=\u001b[39m _berkowitz_vector(M)\n\u001b[0;32m--> 412\u001b[0m x \u001b[39m=\u001b[39m uniquely_named_symbol(x, berk_vector, modify\u001b[39m=\u001b[39;49m\u001b[39mlambda\u001b[39;49;00m s: \u001b[39m'\u001b[39;49m\u001b[39m_\u001b[39;49m\u001b[39m'\u001b[39;49m \u001b[39m+\u001b[39;49m s)\n\u001b[1;32m    414\u001b[0m \u001b[39mreturn\u001b[39;00m PurePoly([simplify(a) \u001b[39mfor\u001b[39;00m a \u001b[39min\u001b[39;00m berk_vector], x)\n",
      "File \u001b[0;32m~/.local/lib/python3.8/site-packages/sympy/core/symbol.py:197\u001b[0m, in \u001b[0;36muniquely_named_symbol\u001b[0;34m(xname, exprs, compare, modify, **assumptions)\u001b[0m\n\u001b[1;32m    194\u001b[0m \u001b[39mif\u001b[39;00m \u001b[39mnot\u001b[39;00m is_sequence(exprs):\n\u001b[1;32m    195\u001b[0m     exprs \u001b[39m=\u001b[39m [exprs]\n\u001b[1;32m    196\u001b[0m names \u001b[39m=\u001b[39m \u001b[39mset\u001b[39m()\u001b[39m.\u001b[39munion(\n\u001b[0;32m--> 197\u001b[0m     [i\u001b[39m.\u001b[39mname \u001b[39mfor\u001b[39;00m e \u001b[39min\u001b[39;00m exprs \u001b[39mfor\u001b[39;00m i \u001b[39min\u001b[39;00m e\u001b[39m.\u001b[39matoms(Symbol)] \u001b[39m+\u001b[39m\n\u001b[1;32m    198\u001b[0m     [i\u001b[39m.\u001b[39mfunc\u001b[39m.\u001b[39mname \u001b[39mfor\u001b[39;00m e \u001b[39min\u001b[39;00m exprs \u001b[39mfor\u001b[39;00m i \u001b[39min\u001b[39;00m e\u001b[39m.\u001b[39matoms(AppliedUndef)])\n\u001b[1;32m    199\u001b[0m \u001b[39mif\u001b[39;00m modify \u001b[39mis\u001b[39;00m \u001b[39mNone\u001b[39;00m:\n\u001b[1;32m    200\u001b[0m     modify \u001b[39m=\u001b[39m numbered_string_incr\n",
      "File \u001b[0;32m~/.local/lib/python3.8/site-packages/sympy/core/symbol.py:197\u001b[0m, in \u001b[0;36m<listcomp>\u001b[0;34m(.0)\u001b[0m\n\u001b[1;32m    194\u001b[0m \u001b[39mif\u001b[39;00m \u001b[39mnot\u001b[39;00m is_sequence(exprs):\n\u001b[1;32m    195\u001b[0m     exprs \u001b[39m=\u001b[39m [exprs]\n\u001b[1;32m    196\u001b[0m names \u001b[39m=\u001b[39m \u001b[39mset\u001b[39m()\u001b[39m.\u001b[39munion(\n\u001b[0;32m--> 197\u001b[0m     [i\u001b[39m.\u001b[39mname \u001b[39mfor\u001b[39;00m e \u001b[39min\u001b[39;00m exprs \u001b[39mfor\u001b[39;00m i \u001b[39min\u001b[39;00m e\u001b[39m.\u001b[39;49matoms(Symbol)] \u001b[39m+\u001b[39m\n\u001b[1;32m    198\u001b[0m     [i\u001b[39m.\u001b[39mfunc\u001b[39m.\u001b[39mname \u001b[39mfor\u001b[39;00m e \u001b[39min\u001b[39;00m exprs \u001b[39mfor\u001b[39;00m i \u001b[39min\u001b[39;00m e\u001b[39m.\u001b[39matoms(AppliedUndef)])\n\u001b[1;32m    199\u001b[0m \u001b[39mif\u001b[39;00m modify \u001b[39mis\u001b[39;00m \u001b[39mNone\u001b[39;00m:\n\u001b[1;32m    200\u001b[0m     modify \u001b[39m=\u001b[39m numbered_string_incr\n",
      "File \u001b[0;32m~/.local/lib/python3.8/site-packages/sympy/core/basic.py:523\u001b[0m, in \u001b[0;36mBasic.atoms\u001b[0;34m(self, *types)\u001b[0m\n\u001b[1;32m    521\u001b[0m nodes \u001b[39m=\u001b[39m _preorder_traversal(\u001b[39mself\u001b[39m)\n\u001b[1;32m    522\u001b[0m \u001b[39mif\u001b[39;00m types:\n\u001b[0;32m--> 523\u001b[0m     result \u001b[39m=\u001b[39m {node \u001b[39mfor\u001b[39;00m node \u001b[39min\u001b[39;00m nodes \u001b[39mif\u001b[39;00m \u001b[39misinstance\u001b[39m(node, types)}\n\u001b[1;32m    524\u001b[0m \u001b[39melse\u001b[39;00m:\n\u001b[1;32m    525\u001b[0m     result \u001b[39m=\u001b[39m {node \u001b[39mfor\u001b[39;00m node \u001b[39min\u001b[39;00m nodes \u001b[39mif\u001b[39;00m \u001b[39mnot\u001b[39;00m node\u001b[39m.\u001b[39margs}\n",
      "File \u001b[0;32m~/.local/lib/python3.8/site-packages/sympy/core/basic.py:523\u001b[0m, in \u001b[0;36m<setcomp>\u001b[0;34m(.0)\u001b[0m\n\u001b[1;32m    521\u001b[0m nodes \u001b[39m=\u001b[39m _preorder_traversal(\u001b[39mself\u001b[39m)\n\u001b[1;32m    522\u001b[0m \u001b[39mif\u001b[39;00m types:\n\u001b[0;32m--> 523\u001b[0m     result \u001b[39m=\u001b[39m {node \u001b[39mfor\u001b[39;00m node \u001b[39min\u001b[39;00m nodes \u001b[39mif\u001b[39;00m \u001b[39misinstance\u001b[39;49m(node, types)}\n\u001b[1;32m    524\u001b[0m \u001b[39melse\u001b[39;00m:\n\u001b[1;32m    525\u001b[0m     result \u001b[39m=\u001b[39m {node \u001b[39mfor\u001b[39;00m node \u001b[39min\u001b[39;00m nodes \u001b[39mif\u001b[39;00m \u001b[39mnot\u001b[39;00m node\u001b[39m.\u001b[39margs}\n",
      "\u001b[0;31mKeyboardInterrupt\u001b[0m: "
     ]
    }
   ],
   "source": [
    "# Compute the characteristic polynomial\n",
    "char_poly = phi_alpha.charpoly().as_expr()\n",
    "\n",
    "# Expand the characteristic polynomial to separate terms\n",
    "char_poly_expanded = sp.expand(char_poly)\n",
    "\n",
    "# Display the results\n",
    "print(\"Characteristic Polynomial:\")\n",
    "char_poly_expanded"
   ]
  },
  {
   "cell_type": "code",
   "execution_count": null,
   "metadata": {},
   "outputs": [
    {
     "ename": "NameError",
     "evalue": "name 'char_poly_expanded' is not defined",
     "output_type": "error",
     "traceback": [
      "\u001b[0;31m---------------------------------------------------------------------------\u001b[0m",
      "\u001b[0;31mNameError\u001b[0m                                 Traceback (most recent call last)",
      "\u001b[1;32m/home/factslabegmc/python_control/TRO_ProofWork.ipynb Cell 33\u001b[0m line \u001b[0;36m2\n\u001b[1;32m      <a href='vscode-notebook-cell:/home/factslabegmc/python_control/TRO_ProofWork.ipynb#Y155sZmlsZQ%3D%3D?line=0'>1</a>\u001b[0m \u001b[39m# Factor the polynomial to isolate alpha\u001b[39;00m\n\u001b[0;32m----> <a href='vscode-notebook-cell:/home/factslabegmc/python_control/TRO_ProofWork.ipynb#Y155sZmlsZQ%3D%3D?line=1'>2</a>\u001b[0m factored_poly \u001b[39m=\u001b[39m sp\u001b[39m.\u001b[39mcollect(char_poly_expanded, alpha)\n\u001b[1;32m      <a href='vscode-notebook-cell:/home/factslabegmc/python_control/TRO_ProofWork.ipynb#Y155sZmlsZQ%3D%3D?line=3'>4</a>\u001b[0m \u001b[39m# Extract the coefficient of alpha and independent terms\u001b[39;00m\n\u001b[1;32m      <a href='vscode-notebook-cell:/home/factslabegmc/python_control/TRO_ProofWork.ipynb#Y155sZmlsZQ%3D%3D?line=4'>5</a>\u001b[0m P0 \u001b[39m=\u001b[39m factored_poly\u001b[39m.\u001b[39mcoeff(alpha)\n",
      "\u001b[0;31mNameError\u001b[0m: name 'char_poly_expanded' is not defined"
     ]
    }
   ],
   "source": [
    "# Factor the polynomial to isolate alpha\n",
    "factored_poly = sp.collect(char_poly_expanded, alpha)\n",
    "\n",
    "# Extract the coefficient of alpha and independent terms\n",
    "P0 = factored_poly.coeff(alpha)\n",
    "P1 = factored_poly - alpha * P0\n",
    "\n",
    "# Display the results\n",
    "print(\"Factored Polynomial:\", factored_poly)\n",
    "print(\"Coefficient of alpha:\", P0)\n",
    "print(\"Independent part:\", P1)\n",
    "\n",
    "\n",
    "# Solve for lambda in both cases\n",
    "ll = sp.symbols('lambda')  # Unicode lambda\n",
    "poles_P0 = sp.solve(P0, ll)\n",
    "print(\"Poles (terms multiplied by alpha):\", poles_P0)\n"
   ]
  },
  {
   "cell_type": "code",
   "execution_count": null,
   "metadata": {},
   "outputs": [],
   "source": []
  },
  {
   "cell_type": "code",
   "execution_count": null,
   "metadata": {},
   "outputs": [],
   "source": []
  },
  {
   "cell_type": "code",
   "execution_count": null,
   "metadata": {},
   "outputs": [
    {
     "ename": "AttributeError",
     "evalue": "module 'sympy' has no attribute 'inv'",
     "output_type": "error",
     "traceback": [
      "\u001b[0;31m---------------------------------------------------------------------------\u001b[0m",
      "\u001b[0;31mAttributeError\u001b[0m                            Traceback (most recent call last)",
      "\u001b[1;32m/home/factslabegmc/python_control/TRO_ProofWork.ipynb Cell 36\u001b[0m line \u001b[0;36m1\n\u001b[1;32m     <a href='vscode-notebook-cell:/home/factslabegmc/python_control/TRO_ProofWork.ipynb#Y161sZmlsZQ%3D%3D?line=14'>15</a>\u001b[0m \u001b[39m# Compute the phi matrix symbolically\u001b[39;00m\n\u001b[1;32m     <a href='vscode-notebook-cell:/home/factslabegmc/python_control/TRO_ProofWork.ipynb#Y161sZmlsZQ%3D%3D?line=15'>16</a>\u001b[0m exp_A_025 \u001b[39m=\u001b[39m sp\u001b[39m.\u001b[39mexp(A \u001b[39m*\u001b[39m \u001b[39m0.25\u001b[39m)\n\u001b[0;32m---> <a href='vscode-notebook-cell:/home/factslabegmc/python_control/TRO_ProofWork.ipynb#Y161sZmlsZQ%3D%3D?line=16'>17</a>\u001b[0m bl \u001b[39m=\u001b[39m \u001b[39m-\u001b[39msp\u001b[39m.\u001b[39msimplify(sp\u001b[39m.\u001b[39;49minv(C \u001b[39m*\u001b[39m sp\u001b[39m.\u001b[39minv(A) \u001b[39m*\u001b[39m (exp_A_025 \u001b[39m-\u001b[39m I) \u001b[39m*\u001b[39m B) \u001b[39m*\u001b[39m C \u001b[39m*\u001b[39m exp_A_025)\n\u001b[1;32m     <a href='vscode-notebook-cell:/home/factslabegmc/python_control/TRO_ProofWork.ipynb#Y161sZmlsZQ%3D%3D?line=17'>18</a>\u001b[0m br \u001b[39m=\u001b[39m \u001b[39m-\u001b[39msp\u001b[39m.\u001b[39meye(\u001b[39m1\u001b[39m)\n\u001b[1;32m     <a href='vscode-notebook-cell:/home/factslabegmc/python_control/TRO_ProofWork.ipynb#Y161sZmlsZQ%3D%3D?line=19'>20</a>\u001b[0m \u001b[39m# Multiply bl and br by alpha\u001b[39;00m\n",
      "\u001b[0;31mAttributeError\u001b[0m: module 'sympy' has no attribute 'inv'"
     ]
    }
   ],
   "source": [
    "import sympy as sp\n",
    "\n",
    "# Define symbolic variables\n",
    "alpha, s = sp.symbols('alpha s')\n",
    "\n",
    "# Define the state-space matrices as symbolic\n",
    "A = sp.Matrix([[2, 1], [-1, -1]])\n",
    "B = sp.Matrix([[0], [1]])\n",
    "C = sp.Matrix([[-10, 1]])\n",
    "D = sp.Matrix([[0]])\n",
    "\n",
    "# Identity matrix\n",
    "I = sp.eye(A.shape[0])\n",
    "\n",
    "# Compute the phi matrix symbolically\n",
    "exp_A_025 = sp.exp(A * 0.25)\n",
    "bl = -sp.simplify(sp.inv(C * sp.inv(A) * (exp_A_025 - I) * B) * C * exp_A_025)\n",
    "br = -sp.eye(1)\n",
    "\n",
    "# Multiply bl and br by alpha\n",
    "bl_alpha = alpha * bl\n",
    "br_alpha = alpha * br\n",
    "\n",
    "# Construct the augmented phi matrix\n",
    "phi_alpha = sp.Matrix([[A, B], [bl_alpha, br_alpha]])\n",
    "\n",
    "# Compute the characteristic polynomial\n",
    "char_poly = phi_alpha.charpoly(s).as_expr()\n",
    "\n",
    "# Simplify the characteristic polynomial\n",
    "char_poly_simplified = sp.simplify(char_poly)\n",
    "\n",
    "print(\"Characteristic polynomial of phi_alpha:\")\n",
    "print(char_poly_simplified)\n"
   ]
  },
  {
   "cell_type": "code",
   "execution_count": null,
   "metadata": {},
   "outputs": [],
   "source": []
  }
 ],
 "metadata": {
  "kernelspec": {
   "display_name": "Python 3",
   "language": "python",
   "name": "python3"
  },
  "language_info": {
   "codemirror_mode": {
    "name": "ipython",
    "version": 3
   },
   "file_extension": ".py",
   "mimetype": "text/x-python",
   "name": "python",
   "nbconvert_exporter": "python",
   "pygments_lexer": "ipython3",
   "version": "3.8.19"
  }
 },
 "nbformat": 4,
 "nbformat_minor": 2
}
