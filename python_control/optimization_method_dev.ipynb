{
 "cells": [
  {
   "cell_type": "code",
   "execution_count": 2,
   "metadata": {},
   "outputs": [],
   "source": [
    "import sympy as sp"
   ]
  },
  {
   "cell_type": "code",
   "execution_count": 18,
   "metadata": {},
   "outputs": [],
   "source": [
    "# Define symbols\n",
    "n, m = sp.symbols('n m', integer=True)  # Dimensions of x and u\n",
    "x = sp.MatrixSymbol('x', n, 1)\n",
    "u = sp.MatrixSymbol('u', n, 1)\n",
    "r_t_T = sp.MatrixSymbol('r_t_T', n, 1)  # Reference trajectory\n",
    "rho = sp.MatrixSymbol('rho', n, 1)  # \\rho(x, u)"
   ]
  },
  {
   "cell_type": "code",
   "execution_count": 26,
   "metadata": {},
   "outputs": [
    {
     "name": "stdout",
     "output_type": "stream",
     "text": [
      "epsilon = (r_t_T.T - rho.T)*(r_t_T - rho)\n"
     ]
    }
   ],
   "source": [
    "# Define epsilon\n",
    "epsilon = (r_t_T - rho).T * (r_t_T - rho)\n",
    "print('epsilon =', epsilon)"
   ]
  },
  {
   "cell_type": "code",
   "execution_count": 28,
   "metadata": {},
   "outputs": [
    {
     "name": "stdout",
     "output_type": "stream",
     "text": [
      "g = Derivative((r_t_T.T - rho.T)*(r_t_T - rho), u)\n"
     ]
    }
   ],
   "source": [
    "# Placeholder for Jacobian\n",
    "d_rho_du = sp.MatrixSymbol('J', n, m)  # Placeholder for \\partial \\rho / \\partial u\n",
    "\n",
    "# Compute first derivative of epsilon wrt u\n",
    "g_raw = sp.diff(epsilon, u)  # Compute gradient before substitution\n",
    "g = sp.simplify(g_raw.subs(sp.diff(rho, u), d_rho_du))\n",
    "\n",
    "print('g =', g)"
   ]
  },
  {
   "cell_type": "code",
   "execution_count": 30,
   "metadata": {},
   "outputs": [
    {
     "name": "stdout",
     "output_type": "stream",
     "text": [
      "H = Derivative((r_t_T.T - rho.T)*(r_t_T - rho), (u, 2))\n"
     ]
    }
   ],
   "source": [
    "# Compute second derivative of epsilon wrt u\n",
    "H_raw = sp.diff(g, u)  # Compute Hessian before substitution\n",
    "H = sp.simplify(H_raw.subs(sp.diff(rho, u), d_rho_du))\n",
    "print('H =', H)"
   ]
  },
  {
   "cell_type": "code",
   "execution_count": 31,
   "metadata": {},
   "outputs": [
    {
     "ename": "AttributeError",
     "evalue": "'ArrayDerivative' object has no attribute 'inv'",
     "output_type": "error",
     "traceback": [
      "\u001b[0;31m---------------------------------------------------------------------------\u001b[0m",
      "\u001b[0;31mAttributeError\u001b[0m                            Traceback (most recent call last)",
      "\u001b[1;32m/home/factslabegmc/python_control/optimization_method_dev.ipynb Cell 6\u001b[0m line \u001b[0;36m2\n\u001b[1;32m      <a href='vscode-notebook-cell:/home/factslabegmc/python_control/optimization_method_dev.ipynb#W5sZmlsZQ%3D%3D?line=0'>1</a>\u001b[0m \u001b[39m# Define Hessian and gradient for multiplication\u001b[39;00m\n\u001b[0;32m----> <a href='vscode-notebook-cell:/home/factslabegmc/python_control/optimization_method_dev.ipynb#W5sZmlsZQ%3D%3D?line=1'>2</a>\u001b[0m H_inv_g \u001b[39m=\u001b[39m sp\u001b[39m.\u001b[39msimplify(H\u001b[39m.\u001b[39;49minv() \u001b[39m*\u001b[39m g)\n",
      "\u001b[0;31mAttributeError\u001b[0m: 'ArrayDerivative' object has no attribute 'inv'"
     ]
    }
   ],
   "source": [
    "# Define Hessian and gradient for multiplication\n",
    "H_inv_g = sp.simplify(H.inv() * g)"
   ]
  },
  {
   "cell_type": "code",
   "execution_count": 22,
   "metadata": {},
   "outputs": [
    {
     "name": "stdout",
     "output_type": "stream",
     "text": [
      "g = 0\n"
     ]
    }
   ],
   "source": [
    "g = sp.simplify(sp.diff(epsilon[0], u))\n",
    "print(f\"{g = }\")"
   ]
  },
  {
   "cell_type": "code",
   "execution_count": 25,
   "metadata": {},
   "outputs": [
    {
     "data": {
      "text/latex": [
       "$\\displaystyle \\frac{d}{d u} 0$"
      ],
      "text/plain": [
       "Derivative(0, u)"
      ]
     },
     "execution_count": 25,
     "metadata": {},
     "output_type": "execute_result"
    }
   ],
   "source": [
    "\n",
    "# Compute second derivative of epsilon wrt u\n",
    "H = sp.simplify(sp.diff(g, u))\n",
    "\n",
    "# Define Hessian and gradient for multiplication\n",
    "# H_inv_g = sp.simplify(H.inv() * g)\n",
    "H"
   ]
  },
  {
   "cell_type": "code",
   "execution_count": 5,
   "metadata": {},
   "outputs": [
    {
     "name": "stdout",
     "output_type": "stream",
     "text": [
      "First Derivative (Gradient):\n",
      "𝟘\n",
      "\n",
      "Second Derivative (Hessian):\n",
      "d    \n",
      "──(𝟘)\n",
      "du   \n",
      "\n",
      "H_inv * g:\n"
     ]
    },
    {
     "ename": "NameError",
     "evalue": "name 'H_inv_g' is not defined",
     "output_type": "error",
     "traceback": [
      "\u001b[0;31m---------------------------------------------------------------------------\u001b[0m",
      "\u001b[0;31mNameError\u001b[0m                                 Traceback (most recent call last)",
      "\u001b[1;32m/home/factslabegmc/python_control/optimization_method_dev.ipynb Cell 4\u001b[0m line \u001b[0;36m7\n\u001b[1;32m      <a href='vscode-notebook-cell:/home/factslabegmc/python_control/optimization_method_dev.ipynb#W3sZmlsZQ%3D%3D?line=4'>5</a>\u001b[0m sp\u001b[39m.\u001b[39mpprint(H)\n\u001b[1;32m      <a href='vscode-notebook-cell:/home/factslabegmc/python_control/optimization_method_dev.ipynb#W3sZmlsZQ%3D%3D?line=5'>6</a>\u001b[0m \u001b[39mprint\u001b[39m(\u001b[39m\"\u001b[39m\u001b[39m\\n\u001b[39;00m\u001b[39mH_inv * g:\u001b[39m\u001b[39m\"\u001b[39m)\n\u001b[0;32m----> <a href='vscode-notebook-cell:/home/factslabegmc/python_control/optimization_method_dev.ipynb#W3sZmlsZQ%3D%3D?line=6'>7</a>\u001b[0m sp\u001b[39m.\u001b[39mpprint(H_inv_g)\n",
      "\u001b[0;31mNameError\u001b[0m: name 'H_inv_g' is not defined"
     ]
    }
   ],
   "source": [
    "# Display results\n",
    "print(\"First Derivative (Gradient):\")\n",
    "sp.pprint(g)\n",
    "print(\"\\nSecond Derivative (Hessian):\")\n",
    "sp.pprint(H)\n",
    "print(\"\\nH_inv * g:\")\n",
    "sp.pprint(H_inv_g)"
   ]
  },
  {
   "cell_type": "code",
   "execution_count": 33,
   "metadata": {},
   "outputs": [
    {
     "ename": "TypeError",
     "evalue": "\nData type not understood; expecting list of lists or lists of values.",
     "output_type": "error",
     "traceback": [
      "\u001b[0;31m---------------------------------------------------------------------------\u001b[0m",
      "\u001b[0;31mTypeError\u001b[0m                                 Traceback (most recent call last)",
      "\u001b[1;32m/home/factslabegmc/python_control/optimization_method_dev.ipynb Cell 10\u001b[0m line \u001b[0;36m2\n\u001b[1;32m     <a href='vscode-notebook-cell:/home/factslabegmc/python_control/optimization_method_dev.ipynb#W4sZmlsZQ%3D%3D?line=21'>22</a>\u001b[0m H \u001b[39m=\u001b[39m sp\u001b[39m.\u001b[39msimplify(H_raw\u001b[39m.\u001b[39msubs(sp\u001b[39m.\u001b[39mdiff(rho, u), d_rho_du))\n\u001b[1;32m     <a href='vscode-notebook-cell:/home/factslabegmc/python_control/optimization_method_dev.ipynb#W4sZmlsZQ%3D%3D?line=23'>24</a>\u001b[0m \u001b[39m# Convert Hessian to a proper matrix\u001b[39;00m\n\u001b[0;32m---> <a href='vscode-notebook-cell:/home/factslabegmc/python_control/optimization_method_dev.ipynb#W4sZmlsZQ%3D%3D?line=24'>25</a>\u001b[0m H_matrix \u001b[39m=\u001b[39m sp\u001b[39m.\u001b[39;49mMatrix(H)\n\u001b[1;32m     <a href='vscode-notebook-cell:/home/factslabegmc/python_control/optimization_method_dev.ipynb#W4sZmlsZQ%3D%3D?line=26'>27</a>\u001b[0m \u001b[39m# Define Hessian and gradient for multiplication\u001b[39;00m\n\u001b[1;32m     <a href='vscode-notebook-cell:/home/factslabegmc/python_control/optimization_method_dev.ipynb#W4sZmlsZQ%3D%3D?line=27'>28</a>\u001b[0m \u001b[39mif\u001b[39;00m H_matrix\u001b[39m.\u001b[39mdet() \u001b[39m!=\u001b[39m \u001b[39m0\u001b[39m:  \u001b[39m# Check if the matrix is invertible\u001b[39;00m\n",
      "File \u001b[0;32m~/miniconda3/envs/convexOpt/lib/python3.11/site-packages/sympy/matrices/repmatrix.py:329\u001b[0m, in \u001b[0;36mMutableRepMatrix.__new__\u001b[0;34m(cls, *args, **kwargs)\u001b[0m\n\u001b[1;32m    328\u001b[0m \u001b[39mdef\u001b[39;00m \u001b[39m__new__\u001b[39m(\u001b[39mcls\u001b[39m, \u001b[39m*\u001b[39margs, \u001b[39m*\u001b[39m\u001b[39m*\u001b[39mkwargs):\n\u001b[0;32m--> 329\u001b[0m     \u001b[39mreturn\u001b[39;00m \u001b[39mcls\u001b[39;49m\u001b[39m.\u001b[39;49m_new(\u001b[39m*\u001b[39;49margs, \u001b[39m*\u001b[39;49m\u001b[39m*\u001b[39;49mkwargs)\n",
      "File \u001b[0;32m~/miniconda3/envs/convexOpt/lib/python3.11/site-packages/sympy/matrices/repmatrix.py:340\u001b[0m, in \u001b[0;36mMutableRepMatrix._new\u001b[0;34m(cls, copy, *args, **kwargs)\u001b[0m\n\u001b[1;32m    338\u001b[0m     rows, cols, flat_list \u001b[39m=\u001b[39m args\n\u001b[1;32m    339\u001b[0m \u001b[39melse\u001b[39;00m:\n\u001b[0;32m--> 340\u001b[0m     rows, cols, flat_list \u001b[39m=\u001b[39m \u001b[39mcls\u001b[39;49m\u001b[39m.\u001b[39;49m_handle_creation_inputs(\u001b[39m*\u001b[39;49margs, \u001b[39m*\u001b[39;49m\u001b[39m*\u001b[39;49mkwargs)\n\u001b[1;32m    341\u001b[0m     flat_list \u001b[39m=\u001b[39m \u001b[39mlist\u001b[39m(flat_list) \u001b[39m# create a shallow copy\u001b[39;00m\n\u001b[1;32m    343\u001b[0m rep \u001b[39m=\u001b[39m \u001b[39mcls\u001b[39m\u001b[39m.\u001b[39m_flat_list_to_DomainMatrix(rows, cols, flat_list)\n",
      "File \u001b[0;32m~/miniconda3/envs/convexOpt/lib/python3.11/site-packages/sympy/matrices/matrices.py:1143\u001b[0m, in \u001b[0;36mMatrixBase._handle_creation_inputs\u001b[0;34m(cls, *args, **kwargs)\u001b[0m\n\u001b[1;32m   1140\u001b[0m     flat_list \u001b[39m=\u001b[39m []\n\u001b[1;32m   1142\u001b[0m \u001b[39mif\u001b[39;00m flat_list \u001b[39mis\u001b[39;00m \u001b[39mNone\u001b[39;00m:\n\u001b[0;32m-> 1143\u001b[0m     \u001b[39mraise\u001b[39;00m \u001b[39mTypeError\u001b[39;00m(filldedent(\u001b[39m'''\u001b[39m\n\u001b[1;32m   1144\u001b[0m \u001b[39m        Data type not understood; expecting list of lists\u001b[39m\n\u001b[1;32m   1145\u001b[0m \u001b[39m        or lists of values.\u001b[39m\u001b[39m'''\u001b[39m))\n\u001b[1;32m   1147\u001b[0m \u001b[39mreturn\u001b[39;00m rows, cols, flat_list\n",
      "\u001b[0;31mTypeError\u001b[0m: \nData type not understood; expecting list of lists or lists of values."
     ]
    }
   ],
   "source": [
    "import sympy as sp\n",
    "\n",
    "# Define symbols\n",
    "n, m = sp.symbols('n m', integer=True)  # Dimensions of x and u\n",
    "x = sp.MatrixSymbol('x', n, 1)\n",
    "u = sp.MatrixSymbol('u', m, 1)\n",
    "r_t_T = sp.MatrixSymbol('r_t_T', n, 1)  # Reference trajectory\n",
    "rho = sp.MatrixSymbol('rho', n, 1)  # \\rho(x, u)\n",
    "\n",
    "# Define epsilon as a scalar\n",
    "epsilon = ((r_t_T - rho).T * (r_t_T - rho))[0, 0]\n",
    "\n",
    "# Placeholder for Jacobian\n",
    "d_rho_du = sp.MatrixSymbol('J', n, m)  # Placeholder for \\partial \\rho / \\partial u\n",
    "\n",
    "# Compute first derivative of epsilon wrt u\n",
    "g_raw = sp.diff(epsilon, u)  # Compute gradient before substitution\n",
    "g = sp.simplify(g_raw.subs(sp.diff(rho, u), d_rho_du))\n",
    "\n",
    "# Compute second derivative of epsilon wrt u\n",
    "H_raw = sp.diff(g, u)  # Compute Hessian before substitution\n",
    "H = sp.simplify(H_raw.subs(sp.diff(rho, u), d_rho_du))\n",
    "\n",
    "# Convert Hessian to a proper matrix\n",
    "H_matrix = sp.Matrix(H)\n",
    "\n",
    "# Define Hessian and gradient for multiplication\n",
    "if H_matrix.det() != 0:  # Check if the matrix is invertible\n",
    "    H_inv_g = sp.simplify(H_matrix.inv() * g)\n",
    "else:\n",
    "    H_inv_g = sp.simplify(H_matrix.pinv() * g)  # Use pseudo-inverse if singular\n",
    "\n",
    "# Display results\n",
    "print(\"Raw Gradient before substitution:\")\n",
    "sp.pprint(g_raw)\n",
    "print(\"\\nGradient after substitution:\")\n",
    "sp.pprint(g)\n",
    "print(\"\\nRaw Hessian before substitution:\")\n",
    "sp.pprint(H_raw)\n",
    "print(\"\\nHessian after substitution:\")\n",
    "sp.pprint(H)\n",
    "print(\"\\nH_inv * g:\")\n",
    "sp.pprint(H_inv_g)\n"
   ]
  },
  {
   "cell_type": "code",
   "execution_count": 34,
   "metadata": {},
   "outputs": [
    {
     "data": {
      "text/latex": [
       "$\\displaystyle \\frac{d}{d u} 0$"
      ],
      "text/plain": [
       "Derivative(0, u)"
      ]
     },
     "execution_count": 34,
     "metadata": {},
     "output_type": "execute_result"
    }
   ],
   "source": [
    "H"
   ]
  },
  {
   "cell_type": "code",
   "execution_count": 36,
   "metadata": {},
   "outputs": [],
   "source": [
    "# Define the matrix symbols\n",
    "X = sp.MatrixSymbol('X', 2, 2)\n",
    "a = sp.MatrixSymbol('a', 2, 1)\n",
    "b = sp.MatrixSymbol('b', 2, 1)\n",
    "\n",
    "# Define the expression\n",
    "expr = a.T * X**2 * b\n",
    "\n",
    "# Calculate the derivative\n",
    "derivative = expr.diff(X)\n",
    "\n"
   ]
  },
  {
   "cell_type": "code",
   "execution_count": 40,
   "metadata": {},
   "outputs": [
    {
     "name": "stdout",
     "output_type": "stream",
     "text": [
      "epsilon = (r_T_t.T - rho_x_u.T)*(r_T_t - rho_x_u)\n"
     ]
    }
   ],
   "source": [
    "r_T_t = sp.MatrixSymbol('r_T_t', 4, 1)  # Reference trajectory\n",
    "rho_x_u = sp.MatrixSymbol('rho_x_u', 4, 1)  # \\rho(x, u)\n",
    "epsilon = (r_T_t - rho_x_u).T * (r_T_t - rho_x_u)\n",
    "print(f\"{epsilon = }\")"
   ]
  },
  {
   "cell_type": "code",
   "execution_count": null,
   "metadata": {},
   "outputs": [],
   "source": []
  },
  {
   "cell_type": "code",
   "execution_count": 37,
   "metadata": {},
   "outputs": [
    {
     "name": "stdout",
     "output_type": "stream",
     "text": [
      "a*b.T*X.T + X.T*a*b.T\n"
     ]
    }
   ],
   "source": [
    "# Print the result\n",
    "print(derivative)"
   ]
  },
  {
   "cell_type": "code",
   "execution_count": null,
   "metadata": {},
   "outputs": [],
   "source": []
  }
 ],
 "metadata": {
  "kernelspec": {
   "display_name": "Python 3",
   "language": "python",
   "name": "python3"
  },
  "language_info": {
   "codemirror_mode": {
    "name": "ipython",
    "version": 3
   },
   "file_extension": ".py",
   "mimetype": "text/x-python",
   "name": "python",
   "nbconvert_exporter": "python",
   "pygments_lexer": "ipython3",
   "version": "3.11.5"
  }
 },
 "nbformat": 4,
 "nbformat_minor": 2
}
