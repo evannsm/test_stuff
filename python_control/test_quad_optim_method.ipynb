{
 "cells": [
  {
   "cell_type": "code",
   "execution_count": 1,
   "metadata": {},
   "outputs": [
    {
     "name": "stderr",
     "output_type": "stream",
     "text": [
      "No GPU/TPU found, falling back to CPU. (Set TF_CPP_MIN_LOG_LEVEL=0 and rerun for more info.)\n"
     ]
    },
    {
     "name": "stdout",
     "output_type": "stream",
     "text": [
      "key = Array([0, 0], dtype=uint32)\n"
     ]
    }
   ],
   "source": [
    "import jax.numpy as jnp\n",
    "from jax import jit, grad, vmap\n",
    "import matplotlib.pyplot as plt\n",
    "import numpy as np\n",
    "from jax import random\n",
    "from jax import jit, jacfwd, lax, jacrev, hessian\n",
    "\n",
    "key = random.PRNGKey(0)\n",
    "print(f\"{key = }\")"
   ]
  },
  {
   "cell_type": "code",
   "execution_count": 7,
   "metadata": {},
   "outputs": [],
   "source": [
    "def reference_function1(t):\n",
    "    \"\"\"Trajectory to track\"\"\"\n",
    "    return np.array([0., 0., -3., 0.]).reshape((4,1))\n",
    "\n",
    "def reference_function2(t):\n",
    "    \"\"\"Trajectory to track\"\"\"\n",
    "    return np.array([np.sin(t), np.cos(t), -3., 0.]).reshape((4,1))\n",
    "\n",
    "def reference_function3(x10, t):\n",
    "    \"\"\"Trajectory to track\"\"\"\n",
    "    return np.array([0., 0., -(2 + np.sin(t), 0.)]).reshape((4,1))\n",
    "\n",
    "def reference_function4(t):\n",
    "    \"\"\"Trajectory to track\"\"\"\n",
    "    return np.array([np.sin(t), np.cos(t), -(2 + np.sin(t)), t % 2*np.pi]).reshape((4,1))\n",
    "\n",
    "def reference_function5(t):\n",
    "    \"\"\"Trajectory to track\"\"\"\n",
    "    PERIOD = 5\n",
    "    w = 2*np.pi / PERIOD\n",
    "    return np.array([.35*np.sin(2*w*t), .35*np.sin(w*t), -(2 + np.sin(w*t)), 0]).reshape((4,1))\n",
    "\n",
    "\n",
    "def reference_function6(t):\n",
    "    \"\"\"Trajectory to track\"\"\"\n",
    "\n",
    "    return np.array([3., 0., -1., 0.,]).reshape((4,1))"
   ]
  },
  {
   "cell_type": "code",
   "execution_count": 8,
   "metadata": {},
   "outputs": [],
   "source": [
    "reffunc = reference_function6"
   ]
  },
  {
   "cell_type": "code",
   "execution_count": 9,
   "metadata": {},
   "outputs": [],
   "source": [
    "# Simulation parameters\n",
    "T = 10.0  # Time Horizon of simulation\n",
    "SIM_STEP = 0.01  # Time step of simulation\n",
    "T_lookahead = 0.8  # Time horizon for Control\n",
    "INTEGRATION_STEP = 0.1\n",
    "\n",
    "NOISE_SCALING = 0.000\n",
    "C = jnp.array([[1, 0, 0, 0, 0, 0, 0, 0, 0],\n",
    "                [0, 1, 0, 0, 0, 0, 0, 0, 0],\n",
    "                [0, 0, 1, 0, 0, 0, 0, 0, 0],\n",
    "                [0, 0, 0, 0, 0, 0, 0, 0, 1]])\n",
    "MASS = 1.75\n",
    "GRAVITY = 9.81\n",
    "ref0 = reffunc(0.0+T_lookahead)\n",
    "\n",
    "x10 = 0.0  # initial state\n",
    "x20 = 0.0  # initial state\n",
    "x30 = -0.2  # initial state\n",
    "x40 = 0.0  # initial state\n",
    "x50 = 0.0  # initial state\n",
    "x60 = 0.0  # initial state\n",
    "x70 = 0.0  # initial state\n",
    "x80 = 0.0  # initial state\n",
    "x90 = 0.0  # initial state\n",
    "state0 = jnp.array([x10, x20, x30, x40, x50, x60, x70, x80, x90]).reshape((9,1))\n",
    "\n",
    "u0_thrust = MASS * GRAVITY\n",
    "u0_roll = 0.0\n",
    "u0_pitch = 0.0\n",
    "u0_yaw = 0.0\n",
    "input0 = jnp.array([u0_thrust, u0_roll, u0_pitch, u0_yaw]).reshape((4,1))\n",
    "\n",
    "error0 = ref0 - C@state0\n",
    "\n",
    "i = 0"
   ]
  },
  {
   "cell_type": "code",
   "execution_count": 10,
   "metadata": {},
   "outputs": [
    {
     "data": {
      "text/plain": [
       "Array([[ 3. ],\n",
       "       [ 0. ],\n",
       "       [-0.8],\n",
       "       [ 0. ]], dtype=float32)"
      ]
     },
     "execution_count": 10,
     "metadata": {},
     "output_type": "execute_result"
    }
   ],
   "source": [
    "error0"
   ]
  },
  {
   "cell_type": "code",
   "execution_count": null,
   "metadata": {},
   "outputs": [],
   "source": []
  }
 ],
 "metadata": {
  "kernelspec": {
   "display_name": "Python 3",
   "language": "python",
   "name": "python3"
  },
  "language_info": {
   "codemirror_mode": {
    "name": "ipython",
    "version": 3
   },
   "file_extension": ".py",
   "mimetype": "text/x-python",
   "name": "python",
   "nbconvert_exporter": "python",
   "pygments_lexer": "ipython3",
   "version": "3.8.10"
  }
 },
 "nbformat": 4,
 "nbformat_minor": 2
}
